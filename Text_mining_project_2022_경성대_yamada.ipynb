{
  "nbformat": 4,
  "nbformat_minor": 0,
  "metadata": {
    "colab": {
      "provenance": [],
      "collapsed_sections": [],
      "include_colab_link": true
    },
    "kernelspec": {
      "name": "python3",
      "display_name": "Python 3"
    },
    "language_info": {
      "name": "python"
    }
  },
  "cells": [
    {
      "cell_type": "markdown",
      "metadata": {
        "id": "view-in-github",
        "colab_type": "text"
      },
      "source": [
        "<a href=\"https://colab.research.google.com/github/04-5h/ecole/blob/main/Text_mining_project_2022_%EA%B2%BD%EC%84%B1%EB%8C%80_yamada.ipynb\" target=\"_parent\"><img src=\"https://colab.research.google.com/assets/colab-badge.svg\" alt=\"Open In Colab\"/></a>"
      ]
    },
    {
      "cell_type": "markdown",
      "source": [
        "Text Mining (English) Project Code\n",
        "\n",
        "*   목표: 트위터 데이터를 수집하고 다양한 텍스트 분석 방법으로 분석하고 의미있는 결과를 얻자\n",
        "\n",
        "\n",
        "*   Crawling\n",
        "*   전처리\n",
        "*   Word Cloud\n",
        "*   감성분석\n",
        "*   토픽분석\n",
        "\n",
        "\n",
        "\n",
        "\n",
        "\n",
        "\n",
        "\n"
      ],
      "metadata": {
        "id": "Ij8rHsXyfpUo"
      }
    },
    {
      "cell_type": "markdown",
      "source": [
        "# SNS crawling를 사용하고 데이터 수집\n",
        "\n",
        "\n",
        "*   snscrape를 사용 (https://github.com/JustAnotherArchivist/snscrape)\n"
      ],
      "metadata": {
        "id": "WkZMyzN5ymtl"
      }
    },
    {
      "cell_type": "code",
      "execution_count": 101,
      "metadata": {
        "colab": {
          "base_uri": "https://localhost:8080/"
        },
        "id": "3dK7konAsGvY",
        "outputId": "47223e3f-1609-4f47-abba-912a13566e27"
      },
      "outputs": [
        {
          "output_type": "stream",
          "name": "stdout",
          "text": [
            "Looking in indexes: https://pypi.org/simple, https://us-python.pkg.dev/colab-wheels/public/simple/\n",
            "Requirement already satisfied: snscrape in /usr/local/lib/python3.7/dist-packages (0.3.4)\n",
            "Requirement already satisfied: lxml in /usr/local/lib/python3.7/dist-packages (from snscrape) (4.9.1)\n",
            "Requirement already satisfied: beautifulsoup4 in /usr/local/lib/python3.7/dist-packages (from snscrape) (4.6.3)\n",
            "Requirement already satisfied: requests[socks] in /usr/local/lib/python3.7/dist-packages (from snscrape) (2.23.0)\n",
            "Requirement already satisfied: certifi>=2017.4.17 in /usr/local/lib/python3.7/dist-packages (from requests[socks]->snscrape) (2022.9.24)\n",
            "Requirement already satisfied: idna<3,>=2.5 in /usr/local/lib/python3.7/dist-packages (from requests[socks]->snscrape) (2.10)\n",
            "Requirement already satisfied: urllib3!=1.25.0,!=1.25.1,<1.26,>=1.21.1 in /usr/local/lib/python3.7/dist-packages (from requests[socks]->snscrape) (1.24.3)\n",
            "Requirement already satisfied: chardet<4,>=3.0.2 in /usr/local/lib/python3.7/dist-packages (from requests[socks]->snscrape) (3.0.4)\n",
            "Requirement already satisfied: PySocks!=1.5.7,>=1.5.6 in /usr/local/lib/python3.7/dist-packages (from requests[socks]->snscrape) (1.7.1)\n"
          ]
        }
      ],
      "source": [
        "!pip install snscrape"
      ]
    },
    {
      "cell_type": "code",
      "source": [
        "import pandas as pd\n",
        "import snscrape.modules.twitter as sntwitter\n",
        "import itertools"
      ],
      "metadata": {
        "id": "KyYS5zHOy1L3"
      },
      "execution_count": 102,
      "outputs": []
    },
    {
      "cell_type": "code",
      "source": [
        "#검색하고 싶은 단어\n",
        "search_word = \"busan\"\n",
        "\n",
        "#검색하는 기간\n",
        "start_day = \"2022-10-13\"\n",
        "end_day = \"2022-10-14\"\n",
        "\n",
        "search_query = search_word + ' since:' + start_day + ' until:' + end_day \n",
        "\n",
        "#지정한 기간에서 검색하고 싶은 단어를 포함한 tweet를 취득\n",
        "scraped_tweets = sntwitter.TwitterSearchScraper(search_query).get_items()"
      ],
      "metadata": {
        "id": "1e-HF4lTy50q"
      },
      "execution_count": 103,
      "outputs": []
    },
    {
      "cell_type": "markdown",
      "source": [],
      "metadata": {
        "id": "Ilkrm0C0YsdL"
      }
    },
    {
      "cell_type": "code",
      "source": [
        "#처음부터 100개의 tweets를 취득\n",
        "sliced_scraped_tweets = itertools.islice(scraped_tweets, 100)"
      ],
      "metadata": {
        "id": "mvPusvZty_M6"
      },
      "execution_count": 104,
      "outputs": []
    },
    {
      "cell_type": "code",
      "source": [
        "#pandas DataFrame으로 변환\n",
        "df = pd.DataFrame(sliced_scraped_tweets)"
      ],
      "metadata": {
        "id": "EyJWFVC1zC7z"
      },
      "execution_count": 105,
      "outputs": []
    },
    {
      "cell_type": "code",
      "source": [
        "df"
      ],
      "metadata": {
        "id": "C0fJ44ngzGd0",
        "colab": {
          "base_uri": "https://localhost:8080/",
          "height": 1000
        },
        "outputId": "142612ab-2956-4fdd-e03d-585ebb06b4e4"
      },
      "execution_count": 106,
      "outputs": [
        {
          "output_type": "execute_result",
          "data": {
            "text/plain": [
              "                                                  url  \\\n",
              "0   https://twitter.com/ygtmrrow/status/1580709959...   \n",
              "1   https://twitter.com/armycaratdeul/status/15807...   \n",
              "2   https://twitter.com/valeriaalexaro1/status/158...   \n",
              "3   https://twitter.com/arari_pardo/status/1580709...   \n",
              "4   https://twitter.com/abcdefnof/status/158070992...   \n",
              "..                                                ...   \n",
              "95  https://twitter.com/yoongitotqm/status/1580708...   \n",
              "96  https://twitter.com/yukiii_sun/status/15807088...   \n",
              "97  https://twitter.com/syaweees/status/1580708852...   \n",
              "98  https://twitter.com/BangtanVzla/status/1580708...   \n",
              "99  https://twitter.com/in_hoseoki/status/15807088...   \n",
              "\n",
              "                        date  \\\n",
              "0  2022-10-13 23:59:57+00:00   \n",
              "1  2022-10-13 23:59:57+00:00   \n",
              "2  2022-10-13 23:59:56+00:00   \n",
              "3  2022-10-13 23:59:52+00:00   \n",
              "4  2022-10-13 23:59:48+00:00   \n",
              "..                       ...   \n",
              "95 2022-10-13 23:55:45+00:00   \n",
              "96 2022-10-13 23:55:43+00:00   \n",
              "97 2022-10-13 23:55:33+00:00   \n",
              "98 2022-10-13 23:55:30+00:00   \n",
              "99 2022-10-13 23:55:24+00:00   \n",
              "\n",
              "                                              content                   id  \\\n",
              "0   me deprimo en tiktok viendo que todas se fuero...  1580709959850815488   \n",
              "1   @hobibisa hii are you going to attend the conc...  1580709959825620992   \n",
              "2     Que envidia a las personas que estan en Busan 😔  1580709958256975872   \n",
              "3               Yo quería ir al concierto en Busan 😭😭  1580709940854804481   \n",
              "4   ttp streaming di era gempuran goes to busan ck...  1580709924509999105   \n",
              "..                                                ...                  ...   \n",
              "95  Tengo la esperanza que en el concierto de Busa...  1580708904740487168   \n",
              "96  I can't sleep 😍😍😍😍😍😍😍😍😍 I'm gonna s word, my f...  1580708895504601088   \n",
              "97  potangena busan exhibit, last chance &amp; onl...  1580708852709801984   \n",
              "98  [💜VeArmy To Busan💜]\\n\\nDamos inicio al 1er día...  1580708841351630849   \n",
              "99        @miminteamo Está bien, no me vuelvas hablar  1580708815431168001   \n",
              "\n",
              "           username outlinks outlinksss tcooutlinks tcooutlinksss  \n",
              "0          ygtmrrow       []                     []                \n",
              "1     armycaratdeul       []                     []                \n",
              "2   valeriaalexaro1       []                     []                \n",
              "3       arari_pardo       []                     []                \n",
              "4         abcdefnof       []                     []                \n",
              "..              ...      ...        ...         ...           ...  \n",
              "95      yoongitotqm       []                     []                \n",
              "96       yukiii_sun       []                     []                \n",
              "97         syaweees       []                     []                \n",
              "98      BangtanVzla       []                     []                \n",
              "99       in_hoseoki       []                     []                \n",
              "\n",
              "[100 rows x 9 columns]"
            ],
            "text/html": [
              "\n",
              "  <div id=\"df-2db48a43-eed0-4a55-91b4-529a2282d8d2\">\n",
              "    <div class=\"colab-df-container\">\n",
              "      <div>\n",
              "<style scoped>\n",
              "    .dataframe tbody tr th:only-of-type {\n",
              "        vertical-align: middle;\n",
              "    }\n",
              "\n",
              "    .dataframe tbody tr th {\n",
              "        vertical-align: top;\n",
              "    }\n",
              "\n",
              "    .dataframe thead th {\n",
              "        text-align: right;\n",
              "    }\n",
              "</style>\n",
              "<table border=\"1\" class=\"dataframe\">\n",
              "  <thead>\n",
              "    <tr style=\"text-align: right;\">\n",
              "      <th></th>\n",
              "      <th>url</th>\n",
              "      <th>date</th>\n",
              "      <th>content</th>\n",
              "      <th>id</th>\n",
              "      <th>username</th>\n",
              "      <th>outlinks</th>\n",
              "      <th>outlinksss</th>\n",
              "      <th>tcooutlinks</th>\n",
              "      <th>tcooutlinksss</th>\n",
              "    </tr>\n",
              "  </thead>\n",
              "  <tbody>\n",
              "    <tr>\n",
              "      <th>0</th>\n",
              "      <td>https://twitter.com/ygtmrrow/status/1580709959...</td>\n",
              "      <td>2022-10-13 23:59:57+00:00</td>\n",
              "      <td>me deprimo en tiktok viendo que todas se fuero...</td>\n",
              "      <td>1580709959850815488</td>\n",
              "      <td>ygtmrrow</td>\n",
              "      <td>[]</td>\n",
              "      <td></td>\n",
              "      <td>[]</td>\n",
              "      <td></td>\n",
              "    </tr>\n",
              "    <tr>\n",
              "      <th>1</th>\n",
              "      <td>https://twitter.com/armycaratdeul/status/15807...</td>\n",
              "      <td>2022-10-13 23:59:57+00:00</td>\n",
              "      <td>@hobibisa hii are you going to attend the conc...</td>\n",
              "      <td>1580709959825620992</td>\n",
              "      <td>armycaratdeul</td>\n",
              "      <td>[]</td>\n",
              "      <td></td>\n",
              "      <td>[]</td>\n",
              "      <td></td>\n",
              "    </tr>\n",
              "    <tr>\n",
              "      <th>2</th>\n",
              "      <td>https://twitter.com/valeriaalexaro1/status/158...</td>\n",
              "      <td>2022-10-13 23:59:56+00:00</td>\n",
              "      <td>Que envidia a las personas que estan en Busan 😔</td>\n",
              "      <td>1580709958256975872</td>\n",
              "      <td>valeriaalexaro1</td>\n",
              "      <td>[]</td>\n",
              "      <td></td>\n",
              "      <td>[]</td>\n",
              "      <td></td>\n",
              "    </tr>\n",
              "    <tr>\n",
              "      <th>3</th>\n",
              "      <td>https://twitter.com/arari_pardo/status/1580709...</td>\n",
              "      <td>2022-10-13 23:59:52+00:00</td>\n",
              "      <td>Yo quería ir al concierto en Busan 😭😭</td>\n",
              "      <td>1580709940854804481</td>\n",
              "      <td>arari_pardo</td>\n",
              "      <td>[]</td>\n",
              "      <td></td>\n",
              "      <td>[]</td>\n",
              "      <td></td>\n",
              "    </tr>\n",
              "    <tr>\n",
              "      <th>4</th>\n",
              "      <td>https://twitter.com/abcdefnof/status/158070992...</td>\n",
              "      <td>2022-10-13 23:59:48+00:00</td>\n",
              "      <td>ttp streaming di era gempuran goes to busan ck...</td>\n",
              "      <td>1580709924509999105</td>\n",
              "      <td>abcdefnof</td>\n",
              "      <td>[]</td>\n",
              "      <td></td>\n",
              "      <td>[]</td>\n",
              "      <td></td>\n",
              "    </tr>\n",
              "    <tr>\n",
              "      <th>...</th>\n",
              "      <td>...</td>\n",
              "      <td>...</td>\n",
              "      <td>...</td>\n",
              "      <td>...</td>\n",
              "      <td>...</td>\n",
              "      <td>...</td>\n",
              "      <td>...</td>\n",
              "      <td>...</td>\n",
              "      <td>...</td>\n",
              "    </tr>\n",
              "    <tr>\n",
              "      <th>95</th>\n",
              "      <td>https://twitter.com/yoongitotqm/status/1580708...</td>\n",
              "      <td>2022-10-13 23:55:45+00:00</td>\n",
              "      <td>Tengo la esperanza que en el concierto de Busa...</td>\n",
              "      <td>1580708904740487168</td>\n",
              "      <td>yoongitotqm</td>\n",
              "      <td>[]</td>\n",
              "      <td></td>\n",
              "      <td>[]</td>\n",
              "      <td></td>\n",
              "    </tr>\n",
              "    <tr>\n",
              "      <th>96</th>\n",
              "      <td>https://twitter.com/yukiii_sun/status/15807088...</td>\n",
              "      <td>2022-10-13 23:55:43+00:00</td>\n",
              "      <td>I can't sleep 😍😍😍😍😍😍😍😍😍 I'm gonna s word, my f...</td>\n",
              "      <td>1580708895504601088</td>\n",
              "      <td>yukiii_sun</td>\n",
              "      <td>[]</td>\n",
              "      <td></td>\n",
              "      <td>[]</td>\n",
              "      <td></td>\n",
              "    </tr>\n",
              "    <tr>\n",
              "      <th>97</th>\n",
              "      <td>https://twitter.com/syaweees/status/1580708852...</td>\n",
              "      <td>2022-10-13 23:55:33+00:00</td>\n",
              "      <td>potangena busan exhibit, last chance &amp;amp; onl...</td>\n",
              "      <td>1580708852709801984</td>\n",
              "      <td>syaweees</td>\n",
              "      <td>[]</td>\n",
              "      <td></td>\n",
              "      <td>[]</td>\n",
              "      <td></td>\n",
              "    </tr>\n",
              "    <tr>\n",
              "      <th>98</th>\n",
              "      <td>https://twitter.com/BangtanVzla/status/1580708...</td>\n",
              "      <td>2022-10-13 23:55:30+00:00</td>\n",
              "      <td>[💜VeArmy To Busan💜]\\n\\nDamos inicio al 1er día...</td>\n",
              "      <td>1580708841351630849</td>\n",
              "      <td>BangtanVzla</td>\n",
              "      <td>[]</td>\n",
              "      <td></td>\n",
              "      <td>[]</td>\n",
              "      <td></td>\n",
              "    </tr>\n",
              "    <tr>\n",
              "      <th>99</th>\n",
              "      <td>https://twitter.com/in_hoseoki/status/15807088...</td>\n",
              "      <td>2022-10-13 23:55:24+00:00</td>\n",
              "      <td>@miminteamo Está bien, no me vuelvas hablar</td>\n",
              "      <td>1580708815431168001</td>\n",
              "      <td>in_hoseoki</td>\n",
              "      <td>[]</td>\n",
              "      <td></td>\n",
              "      <td>[]</td>\n",
              "      <td></td>\n",
              "    </tr>\n",
              "  </tbody>\n",
              "</table>\n",
              "<p>100 rows × 9 columns</p>\n",
              "</div>\n",
              "      <button class=\"colab-df-convert\" onclick=\"convertToInteractive('df-2db48a43-eed0-4a55-91b4-529a2282d8d2')\"\n",
              "              title=\"Convert this dataframe to an interactive table.\"\n",
              "              style=\"display:none;\">\n",
              "        \n",
              "  <svg xmlns=\"http://www.w3.org/2000/svg\" height=\"24px\"viewBox=\"0 0 24 24\"\n",
              "       width=\"24px\">\n",
              "    <path d=\"M0 0h24v24H0V0z\" fill=\"none\"/>\n",
              "    <path d=\"M18.56 5.44l.94 2.06.94-2.06 2.06-.94-2.06-.94-.94-2.06-.94 2.06-2.06.94zm-11 1L8.5 8.5l.94-2.06 2.06-.94-2.06-.94L8.5 2.5l-.94 2.06-2.06.94zm10 10l.94 2.06.94-2.06 2.06-.94-2.06-.94-.94-2.06-.94 2.06-2.06.94z\"/><path d=\"M17.41 7.96l-1.37-1.37c-.4-.4-.92-.59-1.43-.59-.52 0-1.04.2-1.43.59L10.3 9.45l-7.72 7.72c-.78.78-.78 2.05 0 2.83L4 21.41c.39.39.9.59 1.41.59.51 0 1.02-.2 1.41-.59l7.78-7.78 2.81-2.81c.8-.78.8-2.07 0-2.86zM5.41 20L4 18.59l7.72-7.72 1.47 1.35L5.41 20z\"/>\n",
              "  </svg>\n",
              "      </button>\n",
              "      \n",
              "  <style>\n",
              "    .colab-df-container {\n",
              "      display:flex;\n",
              "      flex-wrap:wrap;\n",
              "      gap: 12px;\n",
              "    }\n",
              "\n",
              "    .colab-df-convert {\n",
              "      background-color: #E8F0FE;\n",
              "      border: none;\n",
              "      border-radius: 50%;\n",
              "      cursor: pointer;\n",
              "      display: none;\n",
              "      fill: #1967D2;\n",
              "      height: 32px;\n",
              "      padding: 0 0 0 0;\n",
              "      width: 32px;\n",
              "    }\n",
              "\n",
              "    .colab-df-convert:hover {\n",
              "      background-color: #E2EBFA;\n",
              "      box-shadow: 0px 1px 2px rgba(60, 64, 67, 0.3), 0px 1px 3px 1px rgba(60, 64, 67, 0.15);\n",
              "      fill: #174EA6;\n",
              "    }\n",
              "\n",
              "    [theme=dark] .colab-df-convert {\n",
              "      background-color: #3B4455;\n",
              "      fill: #D2E3FC;\n",
              "    }\n",
              "\n",
              "    [theme=dark] .colab-df-convert:hover {\n",
              "      background-color: #434B5C;\n",
              "      box-shadow: 0px 1px 3px 1px rgba(0, 0, 0, 0.15);\n",
              "      filter: drop-shadow(0px 1px 2px rgba(0, 0, 0, 0.3));\n",
              "      fill: #FFFFFF;\n",
              "    }\n",
              "  </style>\n",
              "\n",
              "      <script>\n",
              "        const buttonEl =\n",
              "          document.querySelector('#df-2db48a43-eed0-4a55-91b4-529a2282d8d2 button.colab-df-convert');\n",
              "        buttonEl.style.display =\n",
              "          google.colab.kernel.accessAllowed ? 'block' : 'none';\n",
              "\n",
              "        async function convertToInteractive(key) {\n",
              "          const element = document.querySelector('#df-2db48a43-eed0-4a55-91b4-529a2282d8d2');\n",
              "          const dataTable =\n",
              "            await google.colab.kernel.invokeFunction('convertToInteractive',\n",
              "                                                     [key], {});\n",
              "          if (!dataTable) return;\n",
              "\n",
              "          const docLinkHtml = 'Like what you see? Visit the ' +\n",
              "            '<a target=\"_blank\" href=https://colab.research.google.com/notebooks/data_table.ipynb>data table notebook</a>'\n",
              "            + ' to learn more about interactive tables.';\n",
              "          element.innerHTML = '';\n",
              "          dataTable['output_type'] = 'display_data';\n",
              "          await google.colab.output.renderOutput(dataTable, element);\n",
              "          const docLink = document.createElement('div');\n",
              "          docLink.innerHTML = docLinkHtml;\n",
              "          element.appendChild(docLink);\n",
              "        }\n",
              "      </script>\n",
              "    </div>\n",
              "  </div>\n",
              "  "
            ]
          },
          "metadata": {},
          "execution_count": 106
        }
      ]
    },
    {
      "cell_type": "markdown",
      "source": [
        "# content에 keyword가 없고 username에 keyword가 있는 경우도 있어서 그런 경우를 제거하자"
      ],
      "metadata": {
        "id": "DKc_M5_CEL-l"
      }
    },
    {
      "cell_type": "code",
      "source": [
        "df = df[df['content'].str.contains('busan|Busan|BUSAN')]\n",
        "df"
      ],
      "metadata": {
        "colab": {
          "base_uri": "https://localhost:8080/",
          "height": 991
        },
        "id": "mK8HAA1SELOC",
        "outputId": "cea5cbad-41cd-40d3-bc70-700e781a7261"
      },
      "execution_count": 107,
      "outputs": [
        {
          "output_type": "execute_result",
          "data": {
            "text/plain": [
              "                                                  url  \\\n",
              "0   https://twitter.com/ygtmrrow/status/1580709959...   \n",
              "1   https://twitter.com/armycaratdeul/status/15807...   \n",
              "2   https://twitter.com/valeriaalexaro1/status/158...   \n",
              "3   https://twitter.com/arari_pardo/status/1580709...   \n",
              "4   https://twitter.com/abcdefnof/status/158070992...   \n",
              "..                                                ...   \n",
              "94  https://twitter.com/moonbyher/status/158070894...   \n",
              "95  https://twitter.com/yoongitotqm/status/1580708...   \n",
              "96  https://twitter.com/yukiii_sun/status/15807088...   \n",
              "97  https://twitter.com/syaweees/status/1580708852...   \n",
              "98  https://twitter.com/BangtanVzla/status/1580708...   \n",
              "\n",
              "                        date  \\\n",
              "0  2022-10-13 23:59:57+00:00   \n",
              "1  2022-10-13 23:59:57+00:00   \n",
              "2  2022-10-13 23:59:56+00:00   \n",
              "3  2022-10-13 23:59:52+00:00   \n",
              "4  2022-10-13 23:59:48+00:00   \n",
              "..                       ...   \n",
              "94 2022-10-13 23:55:54+00:00   \n",
              "95 2022-10-13 23:55:45+00:00   \n",
              "96 2022-10-13 23:55:43+00:00   \n",
              "97 2022-10-13 23:55:33+00:00   \n",
              "98 2022-10-13 23:55:30+00:00   \n",
              "\n",
              "                                              content                   id  \\\n",
              "0   me deprimo en tiktok viendo que todas se fuero...  1580709959850815488   \n",
              "1   @hobibisa hii are you going to attend the conc...  1580709959825620992   \n",
              "2     Que envidia a las personas que estan en Busan 😔  1580709958256975872   \n",
              "3               Yo quería ir al concierto en Busan 😭😭  1580709940854804481   \n",
              "4   ttp streaming di era gempuran goes to busan ck...  1580709924509999105   \n",
              "..                                                ...                  ...   \n",
              "94                         D-1 ytc concert busan... 🥹  1580708942464036864   \n",
              "95  Tengo la esperanza que en el concierto de Busa...  1580708904740487168   \n",
              "96  I can't sleep 😍😍😍😍😍😍😍😍😍 I'm gonna s word, my f...  1580708895504601088   \n",
              "97  potangena busan exhibit, last chance &amp; onl...  1580708852709801984   \n",
              "98  [💜VeArmy To Busan💜]\\n\\nDamos inicio al 1er día...  1580708841351630849   \n",
              "\n",
              "           username outlinks outlinksss tcooutlinks tcooutlinksss  \n",
              "0          ygtmrrow       []                     []                \n",
              "1     armycaratdeul       []                     []                \n",
              "2   valeriaalexaro1       []                     []                \n",
              "3       arari_pardo       []                     []                \n",
              "4         abcdefnof       []                     []                \n",
              "..              ...      ...        ...         ...           ...  \n",
              "94        moonbyher       []                     []                \n",
              "95      yoongitotqm       []                     []                \n",
              "96       yukiii_sun       []                     []                \n",
              "97         syaweees       []                     []                \n",
              "98      BangtanVzla       []                     []                \n",
              "\n",
              "[67 rows x 9 columns]"
            ],
            "text/html": [
              "\n",
              "  <div id=\"df-cde3784a-1c37-4ca2-b951-e6785a52d320\">\n",
              "    <div class=\"colab-df-container\">\n",
              "      <div>\n",
              "<style scoped>\n",
              "    .dataframe tbody tr th:only-of-type {\n",
              "        vertical-align: middle;\n",
              "    }\n",
              "\n",
              "    .dataframe tbody tr th {\n",
              "        vertical-align: top;\n",
              "    }\n",
              "\n",
              "    .dataframe thead th {\n",
              "        text-align: right;\n",
              "    }\n",
              "</style>\n",
              "<table border=\"1\" class=\"dataframe\">\n",
              "  <thead>\n",
              "    <tr style=\"text-align: right;\">\n",
              "      <th></th>\n",
              "      <th>url</th>\n",
              "      <th>date</th>\n",
              "      <th>content</th>\n",
              "      <th>id</th>\n",
              "      <th>username</th>\n",
              "      <th>outlinks</th>\n",
              "      <th>outlinksss</th>\n",
              "      <th>tcooutlinks</th>\n",
              "      <th>tcooutlinksss</th>\n",
              "    </tr>\n",
              "  </thead>\n",
              "  <tbody>\n",
              "    <tr>\n",
              "      <th>0</th>\n",
              "      <td>https://twitter.com/ygtmrrow/status/1580709959...</td>\n",
              "      <td>2022-10-13 23:59:57+00:00</td>\n",
              "      <td>me deprimo en tiktok viendo que todas se fuero...</td>\n",
              "      <td>1580709959850815488</td>\n",
              "      <td>ygtmrrow</td>\n",
              "      <td>[]</td>\n",
              "      <td></td>\n",
              "      <td>[]</td>\n",
              "      <td></td>\n",
              "    </tr>\n",
              "    <tr>\n",
              "      <th>1</th>\n",
              "      <td>https://twitter.com/armycaratdeul/status/15807...</td>\n",
              "      <td>2022-10-13 23:59:57+00:00</td>\n",
              "      <td>@hobibisa hii are you going to attend the conc...</td>\n",
              "      <td>1580709959825620992</td>\n",
              "      <td>armycaratdeul</td>\n",
              "      <td>[]</td>\n",
              "      <td></td>\n",
              "      <td>[]</td>\n",
              "      <td></td>\n",
              "    </tr>\n",
              "    <tr>\n",
              "      <th>2</th>\n",
              "      <td>https://twitter.com/valeriaalexaro1/status/158...</td>\n",
              "      <td>2022-10-13 23:59:56+00:00</td>\n",
              "      <td>Que envidia a las personas que estan en Busan 😔</td>\n",
              "      <td>1580709958256975872</td>\n",
              "      <td>valeriaalexaro1</td>\n",
              "      <td>[]</td>\n",
              "      <td></td>\n",
              "      <td>[]</td>\n",
              "      <td></td>\n",
              "    </tr>\n",
              "    <tr>\n",
              "      <th>3</th>\n",
              "      <td>https://twitter.com/arari_pardo/status/1580709...</td>\n",
              "      <td>2022-10-13 23:59:52+00:00</td>\n",
              "      <td>Yo quería ir al concierto en Busan 😭😭</td>\n",
              "      <td>1580709940854804481</td>\n",
              "      <td>arari_pardo</td>\n",
              "      <td>[]</td>\n",
              "      <td></td>\n",
              "      <td>[]</td>\n",
              "      <td></td>\n",
              "    </tr>\n",
              "    <tr>\n",
              "      <th>4</th>\n",
              "      <td>https://twitter.com/abcdefnof/status/158070992...</td>\n",
              "      <td>2022-10-13 23:59:48+00:00</td>\n",
              "      <td>ttp streaming di era gempuran goes to busan ck...</td>\n",
              "      <td>1580709924509999105</td>\n",
              "      <td>abcdefnof</td>\n",
              "      <td>[]</td>\n",
              "      <td></td>\n",
              "      <td>[]</td>\n",
              "      <td></td>\n",
              "    </tr>\n",
              "    <tr>\n",
              "      <th>...</th>\n",
              "      <td>...</td>\n",
              "      <td>...</td>\n",
              "      <td>...</td>\n",
              "      <td>...</td>\n",
              "      <td>...</td>\n",
              "      <td>...</td>\n",
              "      <td>...</td>\n",
              "      <td>...</td>\n",
              "      <td>...</td>\n",
              "    </tr>\n",
              "    <tr>\n",
              "      <th>94</th>\n",
              "      <td>https://twitter.com/moonbyher/status/158070894...</td>\n",
              "      <td>2022-10-13 23:55:54+00:00</td>\n",
              "      <td>D-1 ytc concert busan... 🥹</td>\n",
              "      <td>1580708942464036864</td>\n",
              "      <td>moonbyher</td>\n",
              "      <td>[]</td>\n",
              "      <td></td>\n",
              "      <td>[]</td>\n",
              "      <td></td>\n",
              "    </tr>\n",
              "    <tr>\n",
              "      <th>95</th>\n",
              "      <td>https://twitter.com/yoongitotqm/status/1580708...</td>\n",
              "      <td>2022-10-13 23:55:45+00:00</td>\n",
              "      <td>Tengo la esperanza que en el concierto de Busa...</td>\n",
              "      <td>1580708904740487168</td>\n",
              "      <td>yoongitotqm</td>\n",
              "      <td>[]</td>\n",
              "      <td></td>\n",
              "      <td>[]</td>\n",
              "      <td></td>\n",
              "    </tr>\n",
              "    <tr>\n",
              "      <th>96</th>\n",
              "      <td>https://twitter.com/yukiii_sun/status/15807088...</td>\n",
              "      <td>2022-10-13 23:55:43+00:00</td>\n",
              "      <td>I can't sleep 😍😍😍😍😍😍😍😍😍 I'm gonna s word, my f...</td>\n",
              "      <td>1580708895504601088</td>\n",
              "      <td>yukiii_sun</td>\n",
              "      <td>[]</td>\n",
              "      <td></td>\n",
              "      <td>[]</td>\n",
              "      <td></td>\n",
              "    </tr>\n",
              "    <tr>\n",
              "      <th>97</th>\n",
              "      <td>https://twitter.com/syaweees/status/1580708852...</td>\n",
              "      <td>2022-10-13 23:55:33+00:00</td>\n",
              "      <td>potangena busan exhibit, last chance &amp;amp; onl...</td>\n",
              "      <td>1580708852709801984</td>\n",
              "      <td>syaweees</td>\n",
              "      <td>[]</td>\n",
              "      <td></td>\n",
              "      <td>[]</td>\n",
              "      <td></td>\n",
              "    </tr>\n",
              "    <tr>\n",
              "      <th>98</th>\n",
              "      <td>https://twitter.com/BangtanVzla/status/1580708...</td>\n",
              "      <td>2022-10-13 23:55:30+00:00</td>\n",
              "      <td>[💜VeArmy To Busan💜]\\n\\nDamos inicio al 1er día...</td>\n",
              "      <td>1580708841351630849</td>\n",
              "      <td>BangtanVzla</td>\n",
              "      <td>[]</td>\n",
              "      <td></td>\n",
              "      <td>[]</td>\n",
              "      <td></td>\n",
              "    </tr>\n",
              "  </tbody>\n",
              "</table>\n",
              "<p>67 rows × 9 columns</p>\n",
              "</div>\n",
              "      <button class=\"colab-df-convert\" onclick=\"convertToInteractive('df-cde3784a-1c37-4ca2-b951-e6785a52d320')\"\n",
              "              title=\"Convert this dataframe to an interactive table.\"\n",
              "              style=\"display:none;\">\n",
              "        \n",
              "  <svg xmlns=\"http://www.w3.org/2000/svg\" height=\"24px\"viewBox=\"0 0 24 24\"\n",
              "       width=\"24px\">\n",
              "    <path d=\"M0 0h24v24H0V0z\" fill=\"none\"/>\n",
              "    <path d=\"M18.56 5.44l.94 2.06.94-2.06 2.06-.94-2.06-.94-.94-2.06-.94 2.06-2.06.94zm-11 1L8.5 8.5l.94-2.06 2.06-.94-2.06-.94L8.5 2.5l-.94 2.06-2.06.94zm10 10l.94 2.06.94-2.06 2.06-.94-2.06-.94-.94-2.06-.94 2.06-2.06.94z\"/><path d=\"M17.41 7.96l-1.37-1.37c-.4-.4-.92-.59-1.43-.59-.52 0-1.04.2-1.43.59L10.3 9.45l-7.72 7.72c-.78.78-.78 2.05 0 2.83L4 21.41c.39.39.9.59 1.41.59.51 0 1.02-.2 1.41-.59l7.78-7.78 2.81-2.81c.8-.78.8-2.07 0-2.86zM5.41 20L4 18.59l7.72-7.72 1.47 1.35L5.41 20z\"/>\n",
              "  </svg>\n",
              "      </button>\n",
              "      \n",
              "  <style>\n",
              "    .colab-df-container {\n",
              "      display:flex;\n",
              "      flex-wrap:wrap;\n",
              "      gap: 12px;\n",
              "    }\n",
              "\n",
              "    .colab-df-convert {\n",
              "      background-color: #E8F0FE;\n",
              "      border: none;\n",
              "      border-radius: 50%;\n",
              "      cursor: pointer;\n",
              "      display: none;\n",
              "      fill: #1967D2;\n",
              "      height: 32px;\n",
              "      padding: 0 0 0 0;\n",
              "      width: 32px;\n",
              "    }\n",
              "\n",
              "    .colab-df-convert:hover {\n",
              "      background-color: #E2EBFA;\n",
              "      box-shadow: 0px 1px 2px rgba(60, 64, 67, 0.3), 0px 1px 3px 1px rgba(60, 64, 67, 0.15);\n",
              "      fill: #174EA6;\n",
              "    }\n",
              "\n",
              "    [theme=dark] .colab-df-convert {\n",
              "      background-color: #3B4455;\n",
              "      fill: #D2E3FC;\n",
              "    }\n",
              "\n",
              "    [theme=dark] .colab-df-convert:hover {\n",
              "      background-color: #434B5C;\n",
              "      box-shadow: 0px 1px 3px 1px rgba(0, 0, 0, 0.15);\n",
              "      filter: drop-shadow(0px 1px 2px rgba(0, 0, 0, 0.3));\n",
              "      fill: #FFFFFF;\n",
              "    }\n",
              "  </style>\n",
              "\n",
              "      <script>\n",
              "        const buttonEl =\n",
              "          document.querySelector('#df-cde3784a-1c37-4ca2-b951-e6785a52d320 button.colab-df-convert');\n",
              "        buttonEl.style.display =\n",
              "          google.colab.kernel.accessAllowed ? 'block' : 'none';\n",
              "\n",
              "        async function convertToInteractive(key) {\n",
              "          const element = document.querySelector('#df-cde3784a-1c37-4ca2-b951-e6785a52d320');\n",
              "          const dataTable =\n",
              "            await google.colab.kernel.invokeFunction('convertToInteractive',\n",
              "                                                     [key], {});\n",
              "          if (!dataTable) return;\n",
              "\n",
              "          const docLinkHtml = 'Like what you see? Visit the ' +\n",
              "            '<a target=\"_blank\" href=https://colab.research.google.com/notebooks/data_table.ipynb>data table notebook</a>'\n",
              "            + ' to learn more about interactive tables.';\n",
              "          element.innerHTML = '';\n",
              "          dataTable['output_type'] = 'display_data';\n",
              "          await google.colab.output.renderOutput(dataTable, element);\n",
              "          const docLink = document.createElement('div');\n",
              "          docLink.innerHTML = docLinkHtml;\n",
              "          element.appendChild(docLink);\n",
              "        }\n",
              "      </script>\n",
              "    </div>\n",
              "  </div>\n",
              "  "
            ]
          },
          "metadata": {},
          "execution_count": 107
        }
      ]
    },
    {
      "cell_type": "markdown",
      "source": [
        "# 텍스트 데이터를 전처리"
      ],
      "metadata": {
        "id": "xRsyjno_znTv"
      }
    },
    {
      "cell_type": "code",
      "source": [
        "# df의 열 정보를 확인\n",
        "df.columns"
      ],
      "metadata": {
        "colab": {
          "base_uri": "https://localhost:8080/"
        },
        "id": "UdHodHFAzkZG",
        "outputId": "83191f8b-882d-43bb-d0de-85e90d2be8bd"
      },
      "execution_count": 108,
      "outputs": [
        {
          "output_type": "execute_result",
          "data": {
            "text/plain": [
              "Index(['url', 'date', 'content', 'id', 'username', 'outlinks', 'outlinksss',\n",
              "       'tcooutlinks', 'tcooutlinksss'],\n",
              "      dtype='object')"
            ]
          },
          "metadata": {},
          "execution_count": 108
        }
      ]
    },
    {
      "cell_type": "code",
      "source": [
        "#data frame에서 텍스트 데이터 열만 추출\n",
        "df.content"
      ],
      "metadata": {
        "colab": {
          "base_uri": "https://localhost:8080/"
        },
        "id": "Fm6YcZoo0mkQ",
        "outputId": "fbc1c4eb-21e8-4894-f77c-f3a2d71a3a56"
      },
      "execution_count": 109,
      "outputs": [
        {
          "output_type": "execute_result",
          "data": {
            "text/plain": [
              "0     me deprimo en tiktok viendo que todas se fuero...\n",
              "1     @hobibisa hii are you going to attend the conc...\n",
              "2       Que envidia a las personas que estan en Busan 😔\n",
              "3                 Yo quería ir al concierto en Busan 😭😭\n",
              "4     ttp streaming di era gempuran goes to busan ck...\n",
              "                            ...                        \n",
              "94                           D-1 ytc concert busan... 🥹\n",
              "95    Tengo la esperanza que en el concierto de Busa...\n",
              "96    I can't sleep 😍😍😍😍😍😍😍😍😍 I'm gonna s word, my f...\n",
              "97    potangena busan exhibit, last chance &amp; onl...\n",
              "98    [💜VeArmy To Busan💜]\\n\\nDamos inicio al 1er día...\n",
              "Name: content, Length: 67, dtype: object"
            ]
          },
          "metadata": {},
          "execution_count": 109
        }
      ]
    },
    {
      "cell_type": "code",
      "source": [
        "# 각 트위트의 특징을 확인\n",
        "for tweet in df.content:\n",
        "  print(tweet)"
      ],
      "metadata": {
        "id": "lrpRGiuR0_mp",
        "colab": {
          "base_uri": "https://localhost:8080/"
        },
        "outputId": "e42a6ac8-9533-41d4-8a25-ad5b5e4e0f23"
      },
      "execution_count": 110,
      "outputs": [
        {
          "output_type": "stream",
          "name": "stdout",
          "text": [
            "me deprimo en tiktok viendo que todas se fueron a corea para ir al concierto de busan, jesus sufro\n",
            "\n",
            "I'm voting for BTS (@BTS) for Favorite Pop Duo or Group at the #AMAs\n",
            "@hobibisa hii are you going to attend the concert in busan? can i have a request pleaseee? 🥺\n",
            "Que envidia a las personas que estan en Busan 😔\n",
            "Yo quería ir al concierto en Busan 😭😭\n",
            "ttp streaming di era gempuran goes to busan ck https://t.co/BlufBKL6aV\n",
            "j-hope on Weverse | 221014\n",
            "\n",
            "🐿: Before going to sleep heart like this to🫰\n",
            "ARMY, please look forward to the Busan concert heart.🫰\n",
            "\n",
            "📍https://t.co/WODI8sb2mf\n",
            "#BTS #방탄소년단 @BTS_twt https://t.co/C9hWkRruQd\n",
            "釜山に行かれるアミの皆さま\n",
            "、どうぞ気をつけて行ってらっしゃい～！\n",
            "私は釜山に近い福岡でTVで応援😆楽しみます💜\n",
            "#bts #Busan\n",
            "221013 ; #HOSEOK 🐿 ~23:22[KST] \n",
            " Historia de Instagram (6) 🎬🐥🏟️\n",
            "\n",
            "#uarmyhope: Busan cutie Jimin\n",
            "#uarmyhope: Lindo Jimin de Busan\n",
            "\n",
            "📍https://t.co/glLgd9LZqv\n",
            "#jhope #제이홉 #Jimin #지민 https://t.co/4j12fBZFhQ\n",
            "Sana nasa busan din ako ngayon ☹️\n",
            "cada vez q entro a tiktok m aparecen videos de armys en busan, BASTA, QUIEREN QUW M SUICIDE?\n",
            "@almostdita @BTS_twt Morning🥰🥰🥰🥰 D-1 before busan concert😍😍😍\n",
            "\n",
            "Voting for @BTS_twt for Favorite Pop Duo or Group at the #AMAs\n",
            "Fui baixar o Zepeto pra ser um extra pro show de Busan e quase perdi umas 3 horas pra customizar meu bonequinho k\n",
            "LFS • WTB • SALE • SELL\n",
            "\n",
            "2022 BTS EXHIBITION : PROOF in SEOUL &amp; BUSAN\n",
            "\n",
            "LUCKY DRAW PHOTOCARD (PVC) &amp; LENTICULAR POSTCARD SET - JUNGKOOK (JK)\n",
            "\n",
            "RFS: DUPE\n",
            "Selling as set only\n",
            "PAYO\n",
            "\n",
            "Meet up: Lotte Adventure later today /\n",
            "Oct 15 concert day at Asiad Stadium\n",
            "\n",
            "Pls help RT.\n",
            "DM~ https://t.co/Tx7uM0pBSl\n",
            "good morning busan! ☀️\n",
            "Literal TODO BUSAN ES BTS, los aviones, taxis, buses reproduciendo los mv y canciones de bts, dando la bienvenida a Army en el aeropuerto, posters de bts, todos TODOS hablando sobre el concierto. El impacto que genera bts, primero Las Vegas y ahora Busan. \n",
            "\n",
            "#YetToComeinBUSAN\n",
            "whenever i see wonstein now i just only think of that busan world expo mv that kept playing at kcon https://t.co/b46a4G37ul\n",
            "well I'm going to an airbnb w/no bts things an hour away from busan how about that 😍 https://t.co/zPtbCLpx6q\n",
            "q ganas de estar en busan preparándome para ir al concierto de bangtan\n",
            "shaking at the fact that i should be at busan rn and not at work 🫠🫠🫠 haaay soon talaga\n",
            "yet to come in busan 🏟️🏖️\n",
            "\n",
            "icon border: https://t.co/eRVqYnzysc\n",
            "\n",
            "header: https://t.co/M0ZpPHaWTm\n",
            "YET TO COME IN BUSAN IN 1 DAY, YALLLLLLLLLLL LET’s FUCKING GOOO https://t.co/I4npza6OBt\n",
            "Estamos a pocas horas para disfruar de este maravilloso Concierto YET TO COME BUSAN, les dejo los horarios y canales de transmisíón #YetToComeinBUSAN #YetToCome_on_Weverse #yetToCome_on_zepeto #NAVER_NOW #BTSYettocomeINBusan #BTSARMY #BTS https://t.co/3F9CuV2BxY\n",
            "🚆 busan\n",
            "already saw the footages for run bts, ma city &amp; youth ohhh busan’s setlist abt to be INSANEEEE\n",
            "I'm so jealous of everyone in Busan rn,,,why can't that be meee!!!! https://t.co/zyDkQhSZNf\n",
            "@busan__ghoul I know😭😭\n",
            "lo garrapatas q van a estar ciertos nacidos en busan hoy, ojala cierren el show con un beso si\n",
            "Korean actor Lee Si-eon mentioned Jungkook on his vlog:\n",
            "\n",
            "\"Jungkook-ssi, I want to see you once.. from Sieon (feat Yongsan) YT channel, 'Sieon's cool.' I personally like you so much because we lived in the same neighborhood (Mandeok-dong, Buk-gu, Busan)\n",
            "\n",
            "https://t.co/eBmJn0Rxgv\n",
            "I can’t wait for busan concert 🥺 good luck boys💜 https://t.co/qhqlqN9u3b\n",
            "Ready for my trip to Busan 🥰\n",
            "SEE TOU TOMMOROW BTS 😭💜\n",
            "#YetToComeinBUSAN https://t.co/ZkmH2jVBGr\n",
            "Que hermoso por Dios! BUSAN ES AHORA BORACITY\n",
            "PRECIOSO https://t.co/SeM9ip4CCc\n",
            "bangtan presentará una nueva canción en el concierto de busan \n",
            "\n",
            "fuente: de los deseos\n",
            "221013 | Yet to Come in Busan Concert Rehearsals - TAEHYUNG♥️\n",
            "https://t.co/vgEEVqRiDl\n",
            "Heading to Busan buy first Starbucks 🥰✨ https://t.co/MCDk9UNh6o\n",
            "I wish i was at Busan right now huhu \n",
            "\n",
            "Voting for @BTS_twt for Favorite Pop Duo or Group at the #AMAs2022\n",
            "•💜VeArmy To Busan💜•\n",
            "\n",
            "Damos inicio al 1er día de sp en Spotify, iTunes &amp; Shazam para apoyar el #BTS #BusanConcert🏖️\n",
            "\n",
            "— Corran🏃 a la cuenta de  @BangtanVzla para participar en la dinámica usando:\n",
            "\n",
            "🔑: Yet To Come The city In Venezuela\n",
            "#VeArmyToBusan #VenezuelaIsPurpleToo\n",
            "⬇️ https://t.co/35nGWwqEgM\n",
            "But RIP if you have exams tho you can’t postpone them sorry :( but please let’s celebrate busan’s concert together tomorrow can’t wait eeeeeeeeeeeeeekkk\n",
            "💜 YET TO COME IN BUSAN 💜\n",
            "\n",
            "เริ่มจัดส่งในเกาหลี 12/12 - 19/12\n",
            "\n",
            "🖇️คอนเสิร์ตรอบนี้มาในธีมสีม่วง สวยมาก ตอบโจทย์ใครที่ไม่สามารถไปซื้อหน้าคอนได้สุดๆ\n",
            "\n",
            "✈️ รอสินค้าหลังส่งกลับ 7-10วัน\n",
            "📮เเฟลช ems ลทบ. เริ่มต้น 45฿\n",
            "🛒 สนใจสอบถาม dm\n",
            "\n",
            "#ตลาดนัดบังทัน #ตลาดนัดรถไฟบังทัน #ตลาดนัดBTS https://t.co/XtiqOJHsgC\n",
            "out of office mode and excited for yet to come in busan lezgaaaaaur 🎉\n",
            "\n",
            "#1DayTillBusanConcert\n",
            "#1DayToBusanConcert \n",
            "#YetToComeinBUSAN\n",
            "#BTS_2030BusanWorldExpo https://t.co/zGovkUgxI4\n",
            "EN ESTOS MOMENTOS QUIERO ESTAR EN BUSAN 😭💜\n",
            "yo quiero estar en busan :( todo está muy lindo.\n",
            "Train to busan 🫶🏼 https://t.co/m7dPiJ1zoq\n",
            "I'm so jealous of everyone in busan right now 😭😭\n",
            "literally why everybody in busan right now I'm jealous https://t.co/BhDuPww5VQ\n",
            "kenapa gue ngerasa org2 smua udh pada di busan dan gue tinggal sndrian di rumah 😭\n",
            "HAVING FOMO WISH I WAS IN BUSAN RN\n",
            "i would trade anything to be in busan right now https://t.co/G6BOyzMbUU\n",
            "@sweetnighttval ALGUIEN DE ACA ESTÁ EN BUSAN ???  OMG😭\n",
            "el tete diciendo sisi busan tambien es como mi hogar !\n",
            "acho que nem vou no vôlei sábado só pra ficar por conta de assistir o show de busan😴😴\n",
            "estaria para el comeback de bora bora v bora ft el minkookie edicion busan la verdad…\n",
            "My vote is for @BTS_twt for Favorite Pop Duo or Group at #AMAS \n",
            "\n",
            "WE ARE OFFICIALLY A DAY AWAY FROM YET TO COME BUSAN CONCERT!!! 🔥🔥🔥💜💜💜 https://t.co/GW6uOC88b4\n",
            "Oh my god oh my god one more sleep till the busan concert\n",
            "Eu queria tá viajando pra busan agora\n",
            "*Seeing my ex-cowork flying to busan for bts concert*  \n",
            "i🧘‍♀️am 🧘‍♀️not🧘‍♀️jealous🧘‍♀️ i🧘‍♀️am 🧘‍♀️not 🧘‍♀️jealous 🧘‍♀️i🧘‍♀️am 🧘‍♀️not 🧘‍♀️jealous🧘‍♀️😭\n",
            "Scrolling my social media accounts.\n",
            "Seeing many greetings for our baby mochi. He is well loved. Our pretty angel fairy Jimin.\n",
            "Seeing ARMYs' experiences at Busan. Their hotels, the freebies, the views, the hybe insight, the Magnate, etc. Kakaingit talaga!\n",
            "gais gue blm bisa move on dri konser txt😭\n",
            "dan besok udh ada konser bts busan😭😭\n",
            "there’s lucky draws for the busan concert and I’ll probably regret not joining a go but that’s a problem for another day\n",
            "my irl that won busan tickets just video called me so i could accompany her while walking around the stadium 🥹\n",
            "Kalo JD nonton Busan, skr aku udh jalan2 disana 🥺 bukan nya kerja\n",
            "Y SI TENEMOS TONY MONTANA Y 1 VERSE EN EL CONCIERTO DE BUSAN?????\n",
            "Me going to busan to turn off everything so nobody can see jk https://t.co/G6XcAuZsbD\n",
            "D-1 ytc concert busan... 🥹\n",
            "Tengo la esperanza que en el concierto de Busan se le vea\n",
            "I can't sleep 😍😍😍😍😍😍😍😍😍 I'm gonna s word, my first class tomorrow is geometry and I can't fucking sleep. I haven't been sleeping shit for 3 days :(( I hope I don't fall asleep tomorrow, I wanna watch the Busan concert :(\n",
            "potangena busan exhibit, last chance &amp; only hope na kita. pag sold out pa din, ayoko na mabuhay 😭😭\n",
            "[💜VeArmy To Busan💜]\n",
            "\n",
            "Damos inicio al 1er día del sp en SPOTIFY, ITUNES &amp; SHAZAM para apoyar el concierto de #BTS en Busan🏖️\n",
            "\n",
            "— Dejen su 📸 en nuestra siguiente dinámica usando:\n",
            "\n",
            "🔑: Yet To Come The city In Venezuela\n",
            "#VeArmyToBusan #VenezuelaIsPurpleToo\n",
            "\n",
            "OBJ. + PLAYLIST👇\n",
            "(+) https://t.co/KOHOFgNoOX\n"
          ]
        }
      ]
    },
    {
      "cell_type": "markdown",
      "source": [
        "# 불요어(stop words)랑 불필요한 기호 등을 제거"
      ],
      "metadata": {
        "id": "8mSJl-2F1tjj"
      }
    },
    {
      "cell_type": "code",
      "source": [
        "!pip install nltk"
      ],
      "metadata": {
        "colab": {
          "base_uri": "https://localhost:8080/"
        },
        "id": "1qd6FDkO1sjD",
        "outputId": "6cd67c07-7871-4328-9ce2-3e6477d25d16"
      },
      "execution_count": 111,
      "outputs": [
        {
          "output_type": "stream",
          "name": "stdout",
          "text": [
            "Looking in indexes: https://pypi.org/simple, https://us-python.pkg.dev/colab-wheels/public/simple/\n",
            "Requirement already satisfied: nltk in /usr/local/lib/python3.7/dist-packages (3.7)\n",
            "Requirement already satisfied: regex>=2021.8.3 in /usr/local/lib/python3.7/dist-packages (from nltk) (2022.6.2)\n",
            "Requirement already satisfied: joblib in /usr/local/lib/python3.7/dist-packages (from nltk) (1.2.0)\n",
            "Requirement already satisfied: click in /usr/local/lib/python3.7/dist-packages (from nltk) (7.1.2)\n",
            "Requirement already satisfied: tqdm in /usr/local/lib/python3.7/dist-packages (from nltk) (4.64.1)\n"
          ]
        }
      ]
    },
    {
      "cell_type": "code",
      "source": [
        "import nltk\n",
        "nltk.download(\"stopwords\")\n",
        "nltk.download('punkt')\n",
        "nltk.download('averaged_perceptron_tagger')"
      ],
      "metadata": {
        "colab": {
          "base_uri": "https://localhost:8080/"
        },
        "id": "bX_bEcC32BAQ",
        "outputId": "0125af0f-77af-4ed0-9997-e85f0ce40c60"
      },
      "execution_count": 112,
      "outputs": [
        {
          "output_type": "stream",
          "name": "stderr",
          "text": [
            "[nltk_data] Downloading package stopwords to /root/nltk_data...\n",
            "[nltk_data]   Package stopwords is already up-to-date!\n",
            "[nltk_data] Downloading package punkt to /root/nltk_data...\n",
            "[nltk_data]   Package punkt is already up-to-date!\n",
            "[nltk_data] Downloading package averaged_perceptron_tagger to\n",
            "[nltk_data]     /root/nltk_data...\n",
            "[nltk_data]   Package averaged_perceptron_tagger is already up-to-\n",
            "[nltk_data]       date!\n"
          ]
        },
        {
          "output_type": "execute_result",
          "data": {
            "text/plain": [
              "True"
            ]
          },
          "metadata": {},
          "execution_count": 112
        }
      ]
    },
    {
      "cell_type": "code",
      "source": [
        "from nltk.corpus import stopwords\n",
        "from nltk.tokenize import word_tokenize"
      ],
      "metadata": {
        "id": "oTDwJpyZ2Eg0"
      },
      "execution_count": 113,
      "outputs": []
    },
    {
      "cell_type": "markdown",
      "source": [
        "불요어 추가"
      ],
      "metadata": {
        "id": "WLJjLOXFDBPH"
      }
    },
    {
      "cell_type": "code",
      "source": [
        "stop_words = stopwords.words('english')\n",
        "print(stop_words)\n",
        "stop_words.extend([\"rt\",'BUSAN']) ###여기서  필요한 stopwords추가\n",
        "print(stop_words)"
      ],
      "metadata": {
        "colab": {
          "base_uri": "https://localhost:8080/"
        },
        "id": "Xfv8Q_mq2K38",
        "outputId": "8576f753-b8eb-4789-f54f-3a2114c9a168"
      },
      "execution_count": 114,
      "outputs": [
        {
          "output_type": "stream",
          "name": "stdout",
          "text": [
            "['i', 'me', 'my', 'myself', 'we', 'our', 'ours', 'ourselves', 'you', \"you're\", \"you've\", \"you'll\", \"you'd\", 'your', 'yours', 'yourself', 'yourselves', 'he', 'him', 'his', 'himself', 'she', \"she's\", 'her', 'hers', 'herself', 'it', \"it's\", 'its', 'itself', 'they', 'them', 'their', 'theirs', 'themselves', 'what', 'which', 'who', 'whom', 'this', 'that', \"that'll\", 'these', 'those', 'am', 'is', 'are', 'was', 'were', 'be', 'been', 'being', 'have', 'has', 'had', 'having', 'do', 'does', 'did', 'doing', 'a', 'an', 'the', 'and', 'but', 'if', 'or', 'because', 'as', 'until', 'while', 'of', 'at', 'by', 'for', 'with', 'about', 'against', 'between', 'into', 'through', 'during', 'before', 'after', 'above', 'below', 'to', 'from', 'up', 'down', 'in', 'out', 'on', 'off', 'over', 'under', 'again', 'further', 'then', 'once', 'here', 'there', 'when', 'where', 'why', 'how', 'all', 'any', 'both', 'each', 'few', 'more', 'most', 'other', 'some', 'such', 'no', 'nor', 'not', 'only', 'own', 'same', 'so', 'than', 'too', 'very', 's', 't', 'can', 'will', 'just', 'don', \"don't\", 'should', \"should've\", 'now', 'd', 'll', 'm', 'o', 're', 've', 'y', 'ain', 'aren', \"aren't\", 'couldn', \"couldn't\", 'didn', \"didn't\", 'doesn', \"doesn't\", 'hadn', \"hadn't\", 'hasn', \"hasn't\", 'haven', \"haven't\", 'isn', \"isn't\", 'ma', 'mightn', \"mightn't\", 'mustn', \"mustn't\", 'needn', \"needn't\", 'shan', \"shan't\", 'shouldn', \"shouldn't\", 'wasn', \"wasn't\", 'weren', \"weren't\", 'won', \"won't\", 'wouldn', \"wouldn't\"]\n",
            "['i', 'me', 'my', 'myself', 'we', 'our', 'ours', 'ourselves', 'you', \"you're\", \"you've\", \"you'll\", \"you'd\", 'your', 'yours', 'yourself', 'yourselves', 'he', 'him', 'his', 'himself', 'she', \"she's\", 'her', 'hers', 'herself', 'it', \"it's\", 'its', 'itself', 'they', 'them', 'their', 'theirs', 'themselves', 'what', 'which', 'who', 'whom', 'this', 'that', \"that'll\", 'these', 'those', 'am', 'is', 'are', 'was', 'were', 'be', 'been', 'being', 'have', 'has', 'had', 'having', 'do', 'does', 'did', 'doing', 'a', 'an', 'the', 'and', 'but', 'if', 'or', 'because', 'as', 'until', 'while', 'of', 'at', 'by', 'for', 'with', 'about', 'against', 'between', 'into', 'through', 'during', 'before', 'after', 'above', 'below', 'to', 'from', 'up', 'down', 'in', 'out', 'on', 'off', 'over', 'under', 'again', 'further', 'then', 'once', 'here', 'there', 'when', 'where', 'why', 'how', 'all', 'any', 'both', 'each', 'few', 'more', 'most', 'other', 'some', 'such', 'no', 'nor', 'not', 'only', 'own', 'same', 'so', 'than', 'too', 'very', 's', 't', 'can', 'will', 'just', 'don', \"don't\", 'should', \"should've\", 'now', 'd', 'll', 'm', 'o', 're', 've', 'y', 'ain', 'aren', \"aren't\", 'couldn', \"couldn't\", 'didn', \"didn't\", 'doesn', \"doesn't\", 'hadn', \"hadn't\", 'hasn', \"hasn't\", 'haven', \"haven't\", 'isn', \"isn't\", 'ma', 'mightn', \"mightn't\", 'mustn', \"mustn't\", 'needn', \"needn't\", 'shan', \"shan't\", 'shouldn', \"shouldn't\", 'wasn', \"wasn't\", 'weren', \"weren't\", 'won', \"won't\", 'wouldn', \"wouldn't\", 'rt', 'BUSAN']\n"
          ]
        }
      ]
    },
    {
      "cell_type": "code",
      "source": [
        "import re\n",
        "# 트위터분석을 위한 기본적인 텍스트 cleaning 함수\n",
        "def CleanText(readData, Num=True, Eng=True):\n",
        "    # Remove Retweets\n",
        "    text = re.sub('RT @[\\w_]+: ', '', readData)\n",
        "    # Remove Mentions\n",
        "    text = re.sub('@[\\w_]+', '', text)\n",
        "    # Remove or Replace URL\n",
        "    text = re.sub(r\"http[s]?://(?:[a-zA-Z]|[0-9]|[$-_@.&+]|[!*\\(\\),]|(?:%[0-9a-fA-F][0-9a-fA-F]))+\", ' ',\n",
        "                  text)  # http로 시작되는 url\n",
        "    text = re.sub(r\"[-a-zA-Z0-9@:%._\\+~#=]{1,256}\\.[a-zA-Z0-9()]{2,6}\\b([-a-zA-Z0-9()@:%_\\+.~#?&//=]*)\", ' ',\n",
        "                  text)  # http로 시작되지 않는 url\n",
        "    # Remove only hashtag simbol \"#\" because hashtag contains huge information\n",
        "    text = re.sub(r'#', ' ', text)\n",
        "    # Remove Garbage Words (ex. &lt, &gt, etc)\n",
        "    text = re.sub('[&]+[a-z]+', ' ', text)\n",
        "    # Remove Special Characters\n",
        "    text = re.sub('[^0-9a-zA-Zㄱ-ㅎ가-힣]', ' ', text)\n",
        "    # Remove 출처 by yamada\n",
        "    text = re.sub(r\"(출처.*)\", ' ', text)\n",
        "    # Remove newline\n",
        "    text = text.replace('\\n', ' ')\n",
        "\n",
        "    if Num is True:\n",
        "        # Remove Numbers\n",
        "        text = re.sub(r'\\d+', ' ', text)\n",
        "\n",
        "    if Eng is True:\n",
        "        # Remove English\n",
        "        text = re.sub('[a-zA-Z]', ' ', text)\n",
        "\n",
        "    # Remove multi spacing & Reform sentence\n",
        "    text = ' '.join(text.split())\n",
        "\n",
        "    return text\n"
      ],
      "metadata": {
        "id": "z35PPdLfJMlX"
      },
      "execution_count": 115,
      "outputs": []
    },
    {
      "cell_type": "markdown",
      "source": [
        "tweet를 하나하나 불러오고 stopwords를 제거"
      ],
      "metadata": {
        "id": "u7aZHXOv2qTx"
      }
    },
    {
      "cell_type": "code",
      "source": [
        "cleaned_tweets_all = []\n",
        "\n",
        "for tweet in df.content:\n",
        "  cleaned_tweet = []\n",
        "  cleaned_tweet_string = CleanText(tweet, Num=True, Eng=False)\n",
        "  tweet_tokens = word_tokenize(cleaned_tweet_string)\n",
        "  for token in tweet_tokens:\n",
        "    if token.lower() not in stop_words:\n",
        "      cleaned_tweet.append(token)\n",
        "\n",
        "  print(\"---------------------\")\n",
        "  print(\"전처리 전:\", word_tokenize(tweet))\n",
        "  print(\"전처리 후:\", cleaned_tweet)\n",
        "  print(\"---------------------\")\n",
        "  cleaned_tweets_all.append(cleaned_tweet)"
      ],
      "metadata": {
        "id": "8qfKxmWS2TCL",
        "colab": {
          "base_uri": "https://localhost:8080/"
        },
        "outputId": "cdabe521-42c2-4645-ec0a-370781d5b551"
      },
      "execution_count": 116,
      "outputs": [
        {
          "output_type": "stream",
          "name": "stdout",
          "text": [
            "---------------------\n",
            "전처리 전: ['me', 'deprimo', 'en', 'tiktok', 'viendo', 'que', 'todas', 'se', 'fueron', 'a', 'corea', 'para', 'ir', 'al', 'concierto', 'de', 'busan', ',', 'jesus', 'sufro', 'I', \"'m\", 'voting', 'for', 'BTS', '(', '@', 'BTS', ')', 'for', 'Favorite', 'Pop', 'Duo', 'or', 'Group', 'at', 'the', '#', 'AMAs']\n",
            "전처리 후: ['deprimo', 'en', 'tiktok', 'viendo', 'que', 'todas', 'se', 'fueron', 'corea', 'para', 'ir', 'al', 'concierto', 'de', 'busan', 'jesus', 'sufro', 'voting', 'BTS', 'Favorite', 'Pop', 'Duo', 'Group', 'AMAs']\n",
            "---------------------\n",
            "---------------------\n",
            "전처리 전: ['@', 'hobibisa', 'hii', 'are', 'you', 'going', 'to', 'attend', 'the', 'concert', 'in', 'busan', '?', 'can', 'i', 'have', 'a', 'request', 'pleaseee', '?', '🥺']\n",
            "전처리 후: ['hii', 'going', 'attend', 'concert', 'busan', 'request', 'pleaseee']\n",
            "---------------------\n",
            "---------------------\n",
            "전처리 전: ['Que', 'envidia', 'a', 'las', 'personas', 'que', 'estan', 'en', 'Busan', '😔']\n",
            "전처리 후: ['Que', 'envidia', 'las', 'personas', 'que', 'estan', 'en', 'Busan']\n",
            "---------------------\n",
            "---------------------\n",
            "전처리 전: ['Yo', 'quería', 'ir', 'al', 'concierto', 'en', 'Busan', '😭😭']\n",
            "전처리 후: ['Yo', 'quer', 'ir', 'al', 'concierto', 'en', 'Busan']\n",
            "---------------------\n",
            "---------------------\n",
            "전처리 전: ['ttp', 'streaming', 'di', 'era', 'gempuran', 'goes', 'to', 'busan', 'ck', 'https', ':', '//t.co/BlufBKL6aV']\n",
            "전처리 후: ['ttp', 'streaming', 'di', 'era', 'gempuran', 'goes', 'busan', 'ck']\n",
            "---------------------\n",
            "---------------------\n",
            "전처리 전: ['j-hope', 'on', 'Weverse', '|', '221014', '🐿', ':', 'Before', 'going', 'to', 'sleep', 'heart', 'like', 'this', 'to\\U0001faf0', 'ARMY', ',', 'please', 'look', 'forward', 'to', 'the', 'Busan', 'concert', 'heart.\\U0001faf0', '📍https', ':', '//t.co/WODI8sb2mf', '#', 'BTS', '#', '방탄소년단', '@', 'BTS_twt', 'https', ':', '//t.co/C9hWkRruQd']\n",
            "전처리 후: ['j', 'hope', 'Weverse', 'going', 'sleep', 'heart', 'like', 'ARMY', 'please', 'look', 'forward', 'Busan', 'concert', 'heart', 'BTS', '방탄소년단']\n",
            "---------------------\n",
            "---------------------\n",
            "전처리 전: ['釜山に行かれるアミの皆さま', '、どうぞ気をつけて行ってらっしゃい～！', '私は釜山に近い福岡でTVで応援😆楽しみます💜', '#', 'bts', '#', 'Busan']\n",
            "전처리 후: ['TV', 'bts', 'Busan']\n",
            "---------------------\n",
            "---------------------\n",
            "전처리 전: ['221013', ';', '#', 'HOSEOK', '🐿', '~23:22', '[', 'KST', ']', 'Historia', 'de', 'Instagram', '(', '6', ')', '🎬🐥🏟️', '#', 'uarmyhope', ':', 'Busan', 'cutie', 'Jimin', '#', 'uarmyhope', ':', 'Lindo', 'Jimin', 'de', 'Busan', '📍https', ':', '//t.co/glLgd9LZqv', '#', 'jhope', '#', '제이홉', '#', 'Jimin', '#', '지민', 'https', ':', '//t.co/4j12fBZFhQ']\n",
            "전처리 후: ['HOSEOK', 'KST', 'Historia', 'de', 'Instagram', 'uarmyhope', 'Busan', 'cutie', 'Jimin', 'uarmyhope', 'Lindo', 'Jimin', 'de', 'Busan', 'jhope', '제이홉', 'Jimin', '지민']\n",
            "---------------------\n",
            "---------------------\n",
            "전처리 전: ['Sana', 'nasa', 'busan', 'din', 'ako', 'ngayon', '☹️']\n",
            "전처리 후: ['Sana', 'nasa', 'busan', 'din', 'ako', 'ngayon']\n",
            "---------------------\n",
            "---------------------\n",
            "전처리 전: ['cada', 'vez', 'q', 'entro', 'a', 'tiktok', 'm', 'aparecen', 'videos', 'de', 'armys', 'en', 'busan', ',', 'BASTA', ',', 'QUIEREN', 'QUW', 'M', 'SUICIDE', '?']\n",
            "전처리 후: ['cada', 'vez', 'q', 'entro', 'tiktok', 'aparecen', 'videos', 'de', 'armys', 'en', 'busan', 'BASTA', 'QUIEREN', 'QUW', 'SUICIDE']\n",
            "---------------------\n",
            "---------------------\n",
            "전처리 전: ['@', 'almostdita', '@', 'BTS_twt', 'Morning🥰🥰🥰🥰', 'D-1', 'before', 'busan', 'concert😍😍😍', 'Voting', 'for', '@', 'BTS_twt', 'for', 'Favorite', 'Pop', 'Duo', 'or', 'Group', 'at', 'the', '#', 'AMAs']\n",
            "전처리 후: ['Morning', 'busan', 'concert', 'Voting', 'Favorite', 'Pop', 'Duo', 'Group', 'AMAs']\n",
            "---------------------\n",
            "---------------------\n",
            "전처리 전: ['Fui', 'baixar', 'o', 'Zepeto', 'pra', 'ser', 'um', 'extra', 'pro', 'show', 'de', 'Busan', 'e', 'quase', 'perdi', 'umas', '3', 'horas', 'pra', 'customizar', 'meu', 'bonequinho', 'k']\n",
            "전처리 후: ['Fui', 'baixar', 'Zepeto', 'pra', 'ser', 'um', 'extra', 'pro', 'show', 'de', 'Busan', 'e', 'quase', 'perdi', 'umas', 'horas', 'pra', 'customizar', 'meu', 'bonequinho', 'k']\n",
            "---------------------\n",
            "---------------------\n",
            "전처리 전: ['LFS', '•', 'WTB', '•', 'SALE', '•', 'SELL', '2022', 'BTS', 'EXHIBITION', ':', 'PROOF', 'in', 'SEOUL', '&', 'amp', ';', 'BUSAN', 'LUCKY', 'DRAW', 'PHOTOCARD', '(', 'PVC', ')', '&', 'amp', ';', 'LENTICULAR', 'POSTCARD', 'SET', '-', 'JUNGKOOK', '(', 'JK', ')', 'RFS', ':', 'DUPE', 'Selling', 'as', 'set', 'only', 'PAYO', 'Meet', 'up', ':', 'Lotte', 'Adventure', 'later', 'today', '/', 'Oct', '15', 'concert', 'day', 'at', 'Asiad', 'Stadium', 'Pls', 'help', 'RT', '.', 'DM~', 'https', ':', '//t.co/Tx7uM0pBSl']\n",
            "전처리 후: ['LFS', 'WTB', 'SALE', 'SELL', 'BTS', 'EXHIBITION', 'PROOF', 'SEOUL', 'BUSAN', 'LUCKY', 'DRAW', 'PHOTOCARD', 'PVC', 'LENTICULAR', 'POSTCARD', 'SET', 'JUNGKOOK', 'JK', 'RFS', 'DUPE', 'Selling', 'set', 'PAYO', 'Meet', 'Lotte', 'Adventure', 'later', 'today', 'Oct', 'concert', 'day', 'Asiad', 'Stadium', 'Pls', 'help', 'DM']\n",
            "---------------------\n",
            "---------------------\n",
            "전처리 전: ['good', 'morning', 'busan', '!', '☀️']\n",
            "전처리 후: ['good', 'morning', 'busan']\n",
            "---------------------\n",
            "---------------------\n",
            "전처리 전: ['Literal', 'TODO', 'BUSAN', 'ES', 'BTS', ',', 'los', 'aviones', ',', 'taxis', ',', 'buses', 'reproduciendo', 'los', 'mv', 'y', 'canciones', 'de', 'bts', ',', 'dando', 'la', 'bienvenida', 'a', 'Army', 'en', 'el', 'aeropuerto', ',', 'posters', 'de', 'bts', ',', 'todos', 'TODOS', 'hablando', 'sobre', 'el', 'concierto', '.', 'El', 'impacto', 'que', 'genera', 'bts', ',', 'primero', 'Las', 'Vegas', 'y', 'ahora', 'Busan', '.', '#', 'YetToComeinBUSAN']\n",
            "전처리 후: ['Literal', 'TODO', 'BUSAN', 'ES', 'BTS', 'los', 'aviones', 'taxis', 'buses', 'reproduciendo', 'los', 'mv', 'canciones', 'de', 'bts', 'dando', 'la', 'bienvenida', 'Army', 'en', 'el', 'aeropuerto', 'posters', 'de', 'bts', 'todos', 'TODOS', 'hablando', 'sobre', 'el', 'concierto', 'El', 'impacto', 'que', 'genera', 'bts', 'primero', 'Las', 'Vegas', 'ahora', 'Busan', 'YetToComeinBUSAN']\n",
            "---------------------\n",
            "---------------------\n",
            "전처리 전: ['whenever', 'i', 'see', 'wonstein', 'now', 'i', 'just', 'only', 'think', 'of', 'that', 'busan', 'world', 'expo', 'mv', 'that', 'kept', 'playing', 'at', 'kcon', 'https', ':', '//t.co/b46a4G37ul']\n",
            "전처리 후: ['whenever', 'see', 'wonstein', 'think', 'busan', 'world', 'expo', 'mv', 'kept', 'playing', 'kcon']\n",
            "---------------------\n",
            "---------------------\n",
            "전처리 전: ['well', 'I', \"'m\", 'going', 'to', 'an', 'airbnb', 'w/no', 'bts', 'things', 'an', 'hour', 'away', 'from', 'busan', 'how', 'about', 'that', '😍', 'https', ':', '//t.co/zPtbCLpx6q']\n",
            "전처리 후: ['well', 'going', 'airbnb', 'w', 'bts', 'things', 'hour', 'away', 'busan']\n",
            "---------------------\n",
            "---------------------\n",
            "전처리 전: ['q', 'ganas', 'de', 'estar', 'en', 'busan', 'preparándome', 'para', 'ir', 'al', 'concierto', 'de', 'bangtan']\n",
            "전처리 후: ['q', 'ganas', 'de', 'estar', 'en', 'busan', 'prepar', 'ndome', 'para', 'ir', 'al', 'concierto', 'de', 'bangtan']\n",
            "---------------------\n",
            "---------------------\n",
            "전처리 전: ['shaking', 'at', 'the', 'fact', 'that', 'i', 'should', 'be', 'at', 'busan', 'rn', 'and', 'not', 'at', 'work', '\\U0001fae0\\U0001fae0\\U0001fae0', 'haaay', 'soon', 'talaga']\n",
            "전처리 후: ['shaking', 'fact', 'busan', 'rn', 'work', 'haaay', 'soon', 'talaga']\n",
            "---------------------\n",
            "---------------------\n",
            "전처리 전: ['yet', 'to', 'come', 'in', 'busan', '🏟️🏖️', 'icon', 'border', ':', 'https', ':', '//t.co/eRVqYnzysc', 'header', ':', 'https', ':', '//t.co/M0ZpPHaWTm']\n",
            "전처리 후: ['yet', 'come', 'busan', 'icon', 'border', 'header']\n",
            "---------------------\n",
            "---------------------\n",
            "전처리 전: ['YET', 'TO', 'COME', 'IN', 'BUSAN', 'IN', '1', 'DAY', ',', 'YALLLLLLLLLLL', 'LET', '’', 's', 'FUCKING', 'GOOO', 'https', ':', '//t.co/I4npza6OBt']\n",
            "전처리 후: ['YET', 'COME', 'BUSAN', 'DAY', 'YALLLLLLLLLLL', 'LET', 'FUCKING', 'GOOO']\n",
            "---------------------\n",
            "---------------------\n",
            "전처리 전: ['Estamos', 'a', 'pocas', 'horas', 'para', 'disfruar', 'de', 'este', 'maravilloso', 'Concierto', 'YET', 'TO', 'COME', 'BUSAN', ',', 'les', 'dejo', 'los', 'horarios', 'y', 'canales', 'de', 'transmisíón', '#', 'YetToComeinBUSAN', '#', 'YetToCome_on_Weverse', '#', 'yetToCome_on_zepeto', '#', 'NAVER_NOW', '#', 'BTSYettocomeINBusan', '#', 'BTSARMY', '#', 'BTS', 'https', ':', '//t.co/3F9CuV2BxY']\n",
            "전처리 후: ['Estamos', 'pocas', 'horas', 'para', 'disfruar', 'de', 'este', 'maravilloso', 'Concierto', 'YET', 'COME', 'BUSAN', 'les', 'dejo', 'los', 'horarios', 'canales', 'de', 'transmis', 'n', 'YetToComeinBUSAN', 'YetToCome', 'Weverse', 'yetToCome', 'zepeto', 'NAVER', 'BTSYettocomeINBusan', 'BTSARMY', 'BTS']\n",
            "---------------------\n",
            "---------------------\n",
            "전처리 전: ['🚆', 'busan']\n",
            "전처리 후: ['busan']\n",
            "---------------------\n",
            "---------------------\n",
            "전처리 전: ['already', 'saw', 'the', 'footages', 'for', 'run', 'bts', ',', 'ma', 'city', '&', 'amp', ';', 'youth', 'ohhh', 'busan', '’', 's', 'setlist', 'abt', 'to', 'be', 'INSANEEEE']\n",
            "전처리 후: ['already', 'saw', 'footages', 'run', 'bts', 'city', 'youth', 'ohhh', 'busan', 'setlist', 'abt', 'INSANEEEE']\n",
            "---------------------\n",
            "---------------------\n",
            "전처리 전: ['I', \"'m\", 'so', 'jealous', 'of', 'everyone', 'in', 'Busan', 'rn', ',', ',', ',', 'why', 'ca', \"n't\", 'that', 'be', 'meee', '!', '!', '!', '!', 'https', ':', '//t.co/zyDkQhSZNf']\n",
            "전처리 후: ['jealous', 'everyone', 'Busan', 'rn', 'meee']\n",
            "---------------------\n",
            "---------------------\n",
            "전처리 전: ['@', 'busan__ghoul', 'I', 'know😭😭']\n",
            "전처리 후: ['know']\n",
            "---------------------\n",
            "---------------------\n",
            "전처리 전: ['lo', 'garrapatas', 'q', 'van', 'a', 'estar', 'ciertos', 'nacidos', 'en', 'busan', 'hoy', ',', 'ojala', 'cierren', 'el', 'show', 'con', 'un', 'beso', 'si']\n",
            "전처리 후: ['lo', 'garrapatas', 'q', 'van', 'estar', 'ciertos', 'nacidos', 'en', 'busan', 'hoy', 'ojala', 'cierren', 'el', 'show', 'con', 'un', 'beso', 'si']\n",
            "---------------------\n",
            "---------------------\n",
            "전처리 전: ['Korean', 'actor', 'Lee', 'Si-eon', 'mentioned', 'Jungkook', 'on', 'his', 'vlog', ':', \"''\", 'Jungkook-ssi', ',', 'I', 'want', 'to', 'see', 'you', 'once', '..', 'from', 'Sieon', '(', 'feat', 'Yongsan', ')', 'YT', 'channel', ',', \"'Sieon\", \"'s\", 'cool', '.', \"'\", 'I', 'personally', 'like', 'you', 'so', 'much', 'because', 'we', 'lived', 'in', 'the', 'same', 'neighborhood', '(', 'Mandeok-dong', ',', 'Buk-gu', ',', 'Busan', ')', 'https', ':', '//t.co/eBmJn0Rxgv']\n",
            "전처리 후: ['Korean', 'actor', 'Lee', 'Si', 'eon', 'mentioned', 'Jungkook', 'vlog', 'Jungkook', 'ssi', 'want', 'see', 'Sieon', 'feat', 'Yongsan', 'YT', 'channel', 'Sieon', 'cool', 'personally', 'like', 'much', 'lived', 'neighborhood', 'Mandeok', 'dong', 'Buk', 'gu', 'Busan']\n",
            "---------------------\n",
            "---------------------\n",
            "전처리 전: ['I', 'can', '’', 't', 'wait', 'for', 'busan', 'concert', '🥺', 'good', 'luck', 'boys💜', 'https', ':', '//t.co/qhqlqN9u3b']\n",
            "전처리 후: ['wait', 'busan', 'concert', 'good', 'luck', 'boys']\n",
            "---------------------\n",
            "---------------------\n",
            "전처리 전: ['Ready', 'for', 'my', 'trip', 'to', 'Busan', '🥰', 'SEE', 'TOU', 'TOMMOROW', 'BTS', '😭💜', '#', 'YetToComeinBUSAN', 'https', ':', '//t.co/ZkmH2jVBGr']\n",
            "전처리 후: ['Ready', 'trip', 'Busan', 'SEE', 'TOU', 'TOMMOROW', 'BTS', 'YetToComeinBUSAN']\n",
            "---------------------\n",
            "---------------------\n",
            "전처리 전: ['Que', 'hermoso', 'por', 'Dios', '!', 'BUSAN', 'ES', 'AHORA', 'BORACITY', 'PRECIOSO', 'https', ':', '//t.co/SeM9ip4CCc']\n",
            "전처리 후: ['Que', 'hermoso', 'por', 'Dios', 'BUSAN', 'ES', 'AHORA', 'BORACITY', 'PRECIOSO']\n",
            "---------------------\n",
            "---------------------\n",
            "전처리 전: ['bangtan', 'presentará', 'una', 'nueva', 'canción', 'en', 'el', 'concierto', 'de', 'busan', 'fuente', ':', 'de', 'los', 'deseos']\n",
            "전처리 후: ['bangtan', 'presentar', 'una', 'nueva', 'canci', 'n', 'en', 'el', 'concierto', 'de', 'busan', 'fuente', 'de', 'los', 'deseos']\n",
            "---------------------\n",
            "---------------------\n",
            "전처리 전: ['221013', '|', 'Yet', 'to', 'Come', 'in', 'Busan', 'Concert', 'Rehearsals', '-', 'TAEHYUNG♥️', 'https', ':', '//t.co/vgEEVqRiDl']\n",
            "전처리 후: ['Yet', 'Come', 'Busan', 'Concert', 'Rehearsals', 'TAEHYUNG']\n",
            "---------------------\n",
            "---------------------\n",
            "전처리 전: ['Heading', 'to', 'Busan', 'buy', 'first', 'Starbucks', '🥰✨', 'https', ':', '//t.co/MCDk9UNh6o']\n",
            "전처리 후: ['Heading', 'Busan', 'buy', 'first', 'Starbucks']\n",
            "---------------------\n",
            "---------------------\n",
            "전처리 전: ['I', 'wish', 'i', 'was', 'at', 'Busan', 'right', 'now', 'huhu', 'Voting', 'for', '@', 'BTS_twt', 'for', 'Favorite', 'Pop', 'Duo', 'or', 'Group', 'at', 'the', '#', 'AMAs2022']\n",
            "전처리 후: ['wish', 'Busan', 'right', 'huhu', 'Voting', 'Favorite', 'Pop', 'Duo', 'Group', 'AMAs']\n",
            "---------------------\n",
            "---------------------\n",
            "전처리 전: ['•💜VeArmy', 'To', 'Busan💜•', 'Damos', 'inicio', 'al', '1er', 'día', 'de', 'sp', 'en', 'Spotify', ',', 'iTunes', '&', 'amp', ';', 'Shazam', 'para', 'apoyar', 'el', '#', 'BTS', '#', 'BusanConcert🏖️', '—', 'Corran🏃', 'a', 'la', 'cuenta', 'de', '@', 'BangtanVzla', 'para', 'participar', 'en', 'la', 'dinámica', 'usando', ':', '🔑', ':', 'Yet', 'To', 'Come', 'The', 'city', 'In', 'Venezuela', '#', 'VeArmyToBusan', '#', 'VenezuelaIsPurpleToo', '⬇️', 'https', ':', '//t.co/35nGWwqEgM']\n",
            "전처리 후: ['VeArmy', 'Busan', 'Damos', 'inicio', 'al', 'er', 'de', 'sp', 'en', 'Spotify', 'iTunes', 'Shazam', 'para', 'apoyar', 'el', 'BTS', 'BusanConcert', 'Corran', 'la', 'cuenta', 'de', 'para', 'participar', 'en', 'la', 'din', 'mica', 'usando', 'Yet', 'Come', 'city', 'Venezuela', 'VeArmyToBusan', 'VenezuelaIsPurpleToo']\n",
            "---------------------\n",
            "---------------------\n",
            "전처리 전: ['But', 'RIP', 'if', 'you', 'have', 'exams', 'tho', 'you', 'can', '’', 't', 'postpone', 'them', 'sorry', ':', '(', 'but', 'please', 'let', '’', 's', 'celebrate', 'busan', '’', 's', 'concert', 'together', 'tomorrow', 'can', '’', 't', 'wait', 'eeeeeeeeeeeeeekkk']\n",
            "전처리 후: ['RIP', 'exams', 'tho', 'postpone', 'sorry', 'please', 'let', 'celebrate', 'busan', 'concert', 'together', 'tomorrow', 'wait', 'eeeeeeeeeeeeeekkk']\n",
            "---------------------\n",
            "---------------------\n",
            "전처리 전: ['💜', 'YET', 'TO', 'COME', 'IN', 'BUSAN', '💜', 'เริ่มจัดส่งในเกาหลี', '12/12', '-', '19/12', '🖇️คอนเสิร์ตรอบนี้มาในธีมสีม่วง', 'สวยมาก', 'ตอบโจทย์ใครที่ไม่สามารถไปซื้อหน้าคอนได้สุดๆ', '✈️', 'รอสินค้าหลังส่งกลับ', '7-10วัน', '📮เเฟลช', 'ems', 'ลทบ', '.', 'เริ่มต้น', '45฿', '🛒', 'สนใจสอบถาม', 'dm', '#', 'ตลาดนัดบังทัน', '#', 'ตลาดนัดรถไฟบังทัน', '#', 'ตลาดนัดBTS', 'https', ':', '//t.co/XtiqOJHsgC']\n",
            "전처리 후: ['YET', 'COME', 'BUSAN', 'ems', 'dm', 'BTS']\n",
            "---------------------\n",
            "---------------------\n",
            "전처리 전: ['out', 'of', 'office', 'mode', 'and', 'excited', 'for', 'yet', 'to', 'come', 'in', 'busan', 'lezgaaaaaur', '🎉', '#', '1DayTillBusanConcert', '#', '1DayToBusanConcert', '#', 'YetToComeinBUSAN', '#', 'BTS_2030BusanWorldExpo', 'https', ':', '//t.co/zGovkUgxI4']\n",
            "전처리 후: ['office', 'mode', 'excited', 'yet', 'come', 'busan', 'lezgaaaaaur', 'DayTillBusanConcert', 'DayToBusanConcert', 'YetToComeinBUSAN', 'BTS', 'BusanWorldExpo']\n",
            "---------------------\n",
            "---------------------\n",
            "전처리 전: ['EN', 'ESTOS', 'MOMENTOS', 'QUIERO', 'ESTAR', 'EN', 'BUSAN', '😭💜']\n",
            "전처리 후: ['EN', 'ESTOS', 'MOMENTOS', 'QUIERO', 'ESTAR', 'EN', 'BUSAN']\n",
            "---------------------\n",
            "---------------------\n",
            "전처리 전: ['yo', 'quiero', 'estar', 'en', 'busan', ':', '(', 'todo', 'está', 'muy', 'lindo', '.']\n",
            "전처리 후: ['yo', 'quiero', 'estar', 'en', 'busan', 'todo', 'est', 'muy', 'lindo']\n",
            "---------------------\n",
            "---------------------\n",
            "전처리 전: ['Train', 'to', 'busan', '\\U0001faf6🏼', 'https', ':', '//t.co/m7dPiJ1zoq']\n",
            "전처리 후: ['Train', 'busan']\n",
            "---------------------\n",
            "---------------------\n",
            "전처리 전: ['I', \"'m\", 'so', 'jealous', 'of', 'everyone', 'in', 'busan', 'right', 'now', '😭😭']\n",
            "전처리 후: ['jealous', 'everyone', 'busan', 'right']\n",
            "---------------------\n",
            "---------------------\n",
            "전처리 전: ['literally', 'why', 'everybody', 'in', 'busan', 'right', 'now', 'I', \"'m\", 'jealous', 'https', ':', '//t.co/BhDuPww5VQ']\n",
            "전처리 후: ['literally', 'everybody', 'busan', 'right', 'jealous']\n",
            "---------------------\n",
            "---------------------\n",
            "전처리 전: ['kenapa', 'gue', 'ngerasa', 'org2', 'smua', 'udh', 'pada', 'di', 'busan', 'dan', 'gue', 'tinggal', 'sndrian', 'di', 'rumah', '😭']\n",
            "전처리 후: ['kenapa', 'gue', 'ngerasa', 'org', 'smua', 'udh', 'pada', 'di', 'busan', 'dan', 'gue', 'tinggal', 'sndrian', 'di', 'rumah']\n",
            "---------------------\n",
            "---------------------\n",
            "전처리 전: ['HAVING', 'FOMO', 'WISH', 'I', 'WAS', 'IN', 'BUSAN', 'RN']\n",
            "전처리 후: ['FOMO', 'WISH', 'BUSAN', 'RN']\n",
            "---------------------\n",
            "---------------------\n",
            "전처리 전: ['i', 'would', 'trade', 'anything', 'to', 'be', 'in', 'busan', 'right', 'now', 'https', ':', '//t.co/G6BOyzMbUU']\n",
            "전처리 후: ['would', 'trade', 'anything', 'busan', 'right']\n",
            "---------------------\n",
            "---------------------\n",
            "전처리 전: ['@', 'sweetnighttval', 'ALGUIEN', 'DE', 'ACA', 'ESTÁ', 'EN', 'BUSAN', '?', '?', '?', 'OMG😭']\n",
            "전처리 후: ['ALGUIEN', 'DE', 'ACA', 'EST', 'EN', 'BUSAN', 'OMG']\n",
            "---------------------\n",
            "---------------------\n",
            "전처리 전: ['el', 'tete', 'diciendo', 'sisi', 'busan', 'tambien', 'es', 'como', 'mi', 'hogar', '!']\n",
            "전처리 후: ['el', 'tete', 'diciendo', 'sisi', 'busan', 'tambien', 'es', 'como', 'mi', 'hogar']\n",
            "---------------------\n",
            "---------------------\n",
            "전처리 전: ['acho', 'que', 'nem', 'vou', 'no', 'vôlei', 'sábado', 'só', 'pra', 'ficar', 'por', 'conta', 'de', 'assistir', 'o', 'show', 'de', 'busan😴😴']\n",
            "전처리 후: ['acho', 'que', 'nem', 'vou', 'v', 'lei', 'bado', 'pra', 'ficar', 'por', 'conta', 'de', 'assistir', 'show', 'de', 'busan']\n",
            "---------------------\n",
            "---------------------\n",
            "전처리 전: ['estaria', 'para', 'el', 'comeback', 'de', 'bora', 'bora', 'v', 'bora', 'ft', 'el', 'minkookie', 'edicion', 'busan', 'la', 'verdad…']\n",
            "전처리 후: ['estaria', 'para', 'el', 'comeback', 'de', 'bora', 'bora', 'v', 'bora', 'ft', 'el', 'minkookie', 'edicion', 'busan', 'la', 'verdad']\n",
            "---------------------\n",
            "---------------------\n",
            "전처리 전: ['My', 'vote', 'is', 'for', '@', 'BTS_twt', 'for', 'Favorite', 'Pop', 'Duo', 'or', 'Group', 'at', '#', 'AMAS', 'WE', 'ARE', 'OFFICIALLY', 'A', 'DAY', 'AWAY', 'FROM', 'YET', 'TO', 'COME', 'BUSAN', 'CONCERT', '!', '!', '!', '🔥🔥🔥💜💜💜', 'https', ':', '//t.co/GW6uOC88b4']\n",
            "전처리 후: ['vote', 'Favorite', 'Pop', 'Duo', 'Group', 'AMAS', 'OFFICIALLY', 'DAY', 'AWAY', 'YET', 'COME', 'BUSAN', 'CONCERT']\n",
            "---------------------\n",
            "---------------------\n",
            "전처리 전: ['Oh', 'my', 'god', 'oh', 'my', 'god', 'one', 'more', 'sleep', 'till', 'the', 'busan', 'concert']\n",
            "전처리 후: ['Oh', 'god', 'oh', 'god', 'one', 'sleep', 'till', 'busan', 'concert']\n",
            "---------------------\n",
            "---------------------\n",
            "전처리 전: ['Eu', 'queria', 'tá', 'viajando', 'pra', 'busan', 'agora']\n",
            "전처리 후: ['Eu', 'queria', 'viajando', 'pra', 'busan', 'agora']\n",
            "---------------------\n",
            "---------------------\n",
            "전처리 전: ['*', 'Seeing', 'my', 'ex-cowork', 'flying', 'to', 'busan', 'for', 'bts', 'concert', '*', 'i🧘\\u200d♀️am', '🧘\\u200d♀️not🧘\\u200d♀️jealous🧘\\u200d♀️', 'i🧘\\u200d♀️am', '🧘\\u200d♀️not', '🧘\\u200d♀️jealous', '🧘\\u200d♀️i🧘\\u200d♀️am', '🧘\\u200d♀️not', '🧘\\u200d♀️jealous🧘\\u200d♀️😭']\n",
            "전처리 후: ['Seeing', 'ex', 'cowork', 'flying', 'busan', 'bts', 'concert', 'jealous', 'jealous', 'jealous']\n",
            "---------------------\n",
            "---------------------\n",
            "전처리 전: ['Scrolling', 'my', 'social', 'media', 'accounts', '.', 'Seeing', 'many', 'greetings', 'for', 'our', 'baby', 'mochi', '.', 'He', 'is', 'well', 'loved', '.', 'Our', 'pretty', 'angel', 'fairy', 'Jimin', '.', 'Seeing', 'ARMYs', \"'\", 'experiences', 'at', 'Busan', '.', 'Their', 'hotels', ',', 'the', 'freebies', ',', 'the', 'views', ',', 'the', 'hybe', 'insight', ',', 'the', 'Magnate', ',', 'etc', '.', 'Kakaingit', 'talaga', '!']\n",
            "전처리 후: ['Scrolling', 'social', 'media', 'accounts', 'Seeing', 'many', 'greetings', 'baby', 'mochi', 'well', 'loved', 'pretty', 'angel', 'fairy', 'Jimin', 'Seeing', 'ARMYs', 'experiences', 'Busan', 'hotels', 'freebies', 'views', 'hybe', 'insight', 'Magnate', 'etc', 'Kakaingit', 'talaga']\n",
            "---------------------\n",
            "---------------------\n",
            "전처리 전: ['gais', 'gue', 'blm', 'bisa', 'move', 'on', 'dri', 'konser', 'txt😭', 'dan', 'besok', 'udh', 'ada', 'konser', 'bts', 'busan😭😭']\n",
            "전처리 후: ['gais', 'gue', 'blm', 'bisa', 'move', 'dri', 'konser', 'txt', 'dan', 'besok', 'udh', 'ada', 'konser', 'bts', 'busan']\n",
            "---------------------\n",
            "---------------------\n",
            "전처리 전: ['there', '’', 's', 'lucky', 'draws', 'for', 'the', 'busan', 'concert', 'and', 'I', '’', 'll', 'probably', 'regret', 'not', 'joining', 'a', 'go', 'but', 'that', '’', 's', 'a', 'problem', 'for', 'another', 'day']\n",
            "전처리 후: ['lucky', 'draws', 'busan', 'concert', 'probably', 'regret', 'joining', 'go', 'problem', 'another', 'day']\n",
            "---------------------\n",
            "---------------------\n",
            "전처리 전: ['my', 'irl', 'that', 'won', 'busan', 'tickets', 'just', 'video', 'called', 'me', 'so', 'i', 'could', 'accompany', 'her', 'while', 'walking', 'around', 'the', 'stadium', '\\U0001f979']\n",
            "전처리 후: ['irl', 'busan', 'tickets', 'video', 'called', 'could', 'accompany', 'walking', 'around', 'stadium']\n",
            "---------------------\n",
            "---------------------\n",
            "전처리 전: ['Kalo', 'JD', 'nonton', 'Busan', ',', 'skr', 'aku', 'udh', 'jalan2', 'disana', '🥺', 'bukan', 'nya', 'kerja']\n",
            "전처리 후: ['Kalo', 'JD', 'nonton', 'Busan', 'skr', 'aku', 'udh', 'jalan', 'disana', 'bukan', 'nya', 'kerja']\n",
            "---------------------\n",
            "---------------------\n",
            "전처리 전: ['Y', 'SI', 'TENEMOS', 'TONY', 'MONTANA', 'Y', '1', 'VERSE', 'EN', 'EL', 'CONCIERTO', 'DE', 'BUSAN', '?', '?', '?', '?', '?']\n",
            "전처리 후: ['SI', 'TENEMOS', 'TONY', 'MONTANA', 'VERSE', 'EN', 'EL', 'CONCIERTO', 'DE', 'BUSAN']\n",
            "---------------------\n",
            "---------------------\n",
            "전처리 전: ['Me', 'going', 'to', 'busan', 'to', 'turn', 'off', 'everything', 'so', 'nobody', 'can', 'see', 'jk', 'https', ':', '//t.co/G6XcAuZsbD']\n",
            "전처리 후: ['going', 'busan', 'turn', 'everything', 'nobody', 'see', 'jk']\n",
            "---------------------\n",
            "---------------------\n",
            "전처리 전: ['D-1', 'ytc', 'concert', 'busan', '...', '\\U0001f979']\n",
            "전처리 후: ['ytc', 'concert', 'busan']\n",
            "---------------------\n",
            "---------------------\n",
            "전처리 전: ['Tengo', 'la', 'esperanza', 'que', 'en', 'el', 'concierto', 'de', 'Busan', 'se', 'le', 'vea']\n",
            "전처리 후: ['Tengo', 'la', 'esperanza', 'que', 'en', 'el', 'concierto', 'de', 'Busan', 'se', 'le', 'vea']\n",
            "---------------------\n",
            "---------------------\n",
            "전처리 전: ['I', 'ca', \"n't\", 'sleep', '😍😍😍😍😍😍😍😍😍', 'I', \"'m\", 'gon', 'na', 's', 'word', ',', 'my', 'first', 'class', 'tomorrow', 'is', 'geometry', 'and', 'I', 'ca', \"n't\", 'fucking', 'sleep', '.', 'I', 'have', \"n't\", 'been', 'sleeping', 'shit', 'for', '3', 'days', ':', '(', '(', 'I', 'hope', 'I', 'do', \"n't\", 'fall', 'asleep', 'tomorrow', ',', 'I', 'wan', 'na', 'watch', 'the', 'Busan', 'concert', ':', '(']\n",
            "전처리 후: ['sleep', 'gon', 'na', 'word', 'first', 'class', 'tomorrow', 'geometry', 'fucking', 'sleep', 'sleeping', 'shit', 'days', 'hope', 'fall', 'asleep', 'tomorrow', 'wan', 'na', 'watch', 'Busan', 'concert']\n",
            "---------------------\n",
            "---------------------\n",
            "전처리 전: ['potangena', 'busan', 'exhibit', ',', 'last', 'chance', '&', 'amp', ';', 'only', 'hope', 'na', 'kita', '.', 'pag', 'sold', 'out', 'pa', 'din', ',', 'ayoko', 'na', 'mabuhay', '😭😭']\n",
            "전처리 후: ['potangena', 'busan', 'exhibit', 'last', 'chance', 'hope', 'na', 'kita', 'pag', 'sold', 'pa', 'din', 'ayoko', 'na', 'mabuhay']\n",
            "---------------------\n",
            "---------------------\n",
            "전처리 전: ['[', '💜VeArmy', 'To', 'Busan💜', ']', 'Damos', 'inicio', 'al', '1er', 'día', 'del', 'sp', 'en', 'SPOTIFY', ',', 'ITUNES', '&', 'amp', ';', 'SHAZAM', 'para', 'apoyar', 'el', 'concierto', 'de', '#', 'BTS', 'en', 'Busan🏖️', '—', 'Dejen', 'su', '📸', 'en', 'nuestra', 'siguiente', 'dinámica', 'usando', ':', '🔑', ':', 'Yet', 'To', 'Come', 'The', 'city', 'In', 'Venezuela', '#', 'VeArmyToBusan', '#', 'VenezuelaIsPurpleToo', 'OBJ', '.', '+', 'PLAYLIST👇', '(', '+', ')', 'https', ':', '//t.co/KOHOFgNoOX']\n",
            "전처리 후: ['VeArmy', 'Busan', 'Damos', 'inicio', 'al', 'er', 'del', 'sp', 'en', 'SPOTIFY', 'ITUNES', 'SHAZAM', 'para', 'apoyar', 'el', 'concierto', 'de', 'BTS', 'en', 'Busan', 'Dejen', 'su', 'en', 'nuestra', 'siguiente', 'din', 'mica', 'usando', 'Yet', 'Come', 'city', 'Venezuela', 'VeArmyToBusan', 'VenezuelaIsPurpleToo', 'OBJ', 'PLAYLIST']\n",
            "---------------------\n"
          ]
        }
      ]
    },
    {
      "cell_type": "code",
      "source": [
        "len(cleaned_tweets_all)"
      ],
      "metadata": {
        "colab": {
          "base_uri": "https://localhost:8080/"
        },
        "id": "cqvu16HnLdEi",
        "outputId": "a73eb185-d7f0-4b53-e186-b689c8adb94f"
      },
      "execution_count": 117,
      "outputs": [
        {
          "output_type": "execute_result",
          "data": {
            "text/plain": [
              "67"
            ]
          },
          "metadata": {},
          "execution_count": 117
        }
      ]
    },
    {
      "cell_type": "markdown",
      "source": [
        "# (Option) 한국어로 텍스트 전처리 하고 싶을 때...\n",
        "\n",
        "\n",
        "*   konlpy (https://konlpy.org/ko/latest/index.html)\n",
        "*   (추천)customized_konlpy (https://github.com/lovit/customized_konlpy)\n",
        "\n"
      ],
      "metadata": {
        "id": "vZ9dT1xEvqwG"
      }
    },
    {
      "cell_type": "code",
      "source": [
        "!pip install customized_konlpy"
      ],
      "metadata": {
        "colab": {
          "base_uri": "https://localhost:8080/"
        },
        "id": "hjQydrOGvpxZ",
        "outputId": "a0305321-69d5-4afc-948b-553c47bbf40c"
      },
      "execution_count": 118,
      "outputs": [
        {
          "output_type": "stream",
          "name": "stdout",
          "text": [
            "Looking in indexes: https://pypi.org/simple, https://us-python.pkg.dev/colab-wheels/public/simple/\n",
            "Requirement already satisfied: customized_konlpy in /usr/local/lib/python3.7/dist-packages (0.0.64)\n",
            "Requirement already satisfied: Jpype1>=0.6.1 in /usr/local/lib/python3.7/dist-packages (from customized_konlpy) (1.4.0)\n",
            "Requirement already satisfied: konlpy>=0.4.4 in /usr/local/lib/python3.7/dist-packages (from customized_konlpy) (0.6.0)\n",
            "Requirement already satisfied: typing-extensions in /usr/local/lib/python3.7/dist-packages (from Jpype1>=0.6.1->customized_konlpy) (4.1.1)\n",
            "Requirement already satisfied: lxml>=4.1.0 in /usr/local/lib/python3.7/dist-packages (from konlpy>=0.4.4->customized_konlpy) (4.9.1)\n",
            "Requirement already satisfied: numpy>=1.6 in /usr/local/lib/python3.7/dist-packages (from konlpy>=0.4.4->customized_konlpy) (1.21.6)\n"
          ]
        }
      ]
    },
    {
      "cell_type": "code",
      "source": [
        "from ckonlpy.tag import Twitter"
      ],
      "metadata": {
        "id": "s5A9dM4Iwo6M"
      },
      "execution_count": 119,
      "outputs": []
    },
    {
      "cell_type": "code",
      "source": [
        "twitter = Twitter()\n",
        "twitter.pos(\"안녕하세요. 저는 인공지능 입니다.\")"
      ],
      "metadata": {
        "colab": {
          "base_uri": "https://localhost:8080/"
        },
        "id": "Dj3aU2N-w16A",
        "outputId": "fe53f349-905c-4053-f608-210661ecee9d"
      },
      "execution_count": 120,
      "outputs": [
        {
          "output_type": "stream",
          "name": "stderr",
          "text": [
            "/usr/local/lib/python3.7/dist-packages/konlpy/tag/_okt.py:17: UserWarning: \"Twitter\" has changed to \"Okt\" since KoNLPy v0.4.5.\n",
            "  warn('\"Twitter\" has changed to \"Okt\" since KoNLPy v0.4.5.')\n"
          ]
        },
        {
          "output_type": "execute_result",
          "data": {
            "text/plain": [
              "[('안녕', 'Noun'),\n",
              " ('하세요', 'Verb'),\n",
              " ('.', 'Punctuation'),\n",
              " ('저', 'Noun'),\n",
              " ('는', 'Josa'),\n",
              " ('인공', 'Noun'),\n",
              " ('지능', 'Noun'),\n",
              " ('입니다', 'Adjective'),\n",
              " ('.', 'Punctuation')]"
            ]
          },
          "metadata": {},
          "execution_count": 120
        }
      ]
    },
    {
      "cell_type": "markdown",
      "source": [
        "# 새로운 단어를 형태소 분석기가 참조하는 사전에 추가하는 방법"
      ],
      "metadata": {
        "id": "y_s0ZmWr0tbF"
      }
    },
    {
      "cell_type": "code",
      "source": [
        "#\"인공지능\"을 한 단어로 인식 시키기 위해 사전에 추가 해서 처리\n",
        "twitter.add_dictionary(['인공지능'], 'Noun')"
      ],
      "metadata": {
        "id": "E_C4Z7yUxe_m"
      },
      "execution_count": 121,
      "outputs": []
    },
    {
      "cell_type": "code",
      "source": [
        "#사전에 \"인공지능\"이 추가된 효과가 반영\n",
        "twitter.pos(\"안녕하세요, 저는 인공지능 입니다.\")"
      ],
      "metadata": {
        "colab": {
          "base_uri": "https://localhost:8080/"
        },
        "id": "rUaMPu3lyOuq",
        "outputId": "c3cc1b24-e935-46d4-9f4b-54f2760828a0"
      },
      "execution_count": 122,
      "outputs": [
        {
          "output_type": "execute_result",
          "data": {
            "text/plain": [
              "[('안녕', 'Noun'),\n",
              " ('하세요', 'Verb'),\n",
              " (',', 'Punctuation'),\n",
              " ('저', 'Noun'),\n",
              " ('는', 'Josa'),\n",
              " ('인공지능', 'Noun'),\n",
              " ('입니다', 'Adjective'),\n",
              " ('.', 'Punctuation')]"
            ]
          },
          "metadata": {},
          "execution_count": 122
        }
      ]
    },
    {
      "cell_type": "markdown",
      "source": [
        "불요어(stopwords) 제거"
      ],
      "metadata": {
        "id": "n7Hj_Df5zMO6"
      }
    },
    {
      "cell_type": "code",
      "source": [
        "from ckonlpy.tag import Postprocessor"
      ],
      "metadata": {
        "id": "ceyNPnmdzFCB"
      },
      "execution_count": 123,
      "outputs": []
    },
    {
      "cell_type": "code",
      "source": [
        "stopwords = {\"저\", \"는\"}\n",
        "postprocessor = Postprocessor(twitter, stopwords=stopwords)\n",
        "postprocessor.pos(\"안녕하세요, 저는 인공지능 입니다.\")"
      ],
      "metadata": {
        "colab": {
          "base_uri": "https://localhost:8080/"
        },
        "id": "KVKPNonyzJjK",
        "outputId": "9e004c25-ff99-4ea9-f2a8-283860fd0034"
      },
      "execution_count": 124,
      "outputs": [
        {
          "output_type": "execute_result",
          "data": {
            "text/plain": [
              "[('안녕', 'Noun'),\n",
              " ('하세요', 'Verb'),\n",
              " (',', 'Punctuation'),\n",
              " ('인공지능', 'Noun'),\n",
              " ('입니다', 'Adjective'),\n",
              " ('.', 'Punctuation')]"
            ]
          },
          "metadata": {},
          "execution_count": 124
        }
      ]
    },
    {
      "cell_type": "markdown",
      "source": [
        "명사(\"Noun\")만 보고 싶어"
      ],
      "metadata": {
        "id": "LT_A87fwz0kk"
      }
    },
    {
      "cell_type": "code",
      "source": [
        "passtags = {'Noun'}\n",
        "postprocessor = Postprocessor(twitter, stopwords=stopwords, passtags=passtags)\n",
        "postprocessor.pos(\"안녕하세요, 저는 인공지능 입니다.\")"
      ],
      "metadata": {
        "colab": {
          "base_uri": "https://localhost:8080/"
        },
        "id": "R3NengKQz6fv",
        "outputId": "4c2c65a3-d656-465d-bc7f-f793424fce37"
      },
      "execution_count": 125,
      "outputs": [
        {
          "output_type": "execute_result",
          "data": {
            "text/plain": [
              "[('안녕', 'Noun'), ('인공지능', 'Noun')]"
            ]
          },
          "metadata": {},
          "execution_count": 125
        }
      ]
    },
    {
      "cell_type": "markdown",
      "source": [
        "나머지 기능은 홈페이지 (https://github.com/lovit/customized_konlpy) 참조"
      ],
      "metadata": {
        "id": "KTtgGjOH1yCs"
      }
    },
    {
      "cell_type": "markdown",
      "source": [
        "# Word Cloud 만들기"
      ],
      "metadata": {
        "id": "IzNe_nVyLmJB"
      }
    },
    {
      "cell_type": "code",
      "source": [
        "!pip install nltk\n",
        "!pip install wordcloud"
      ],
      "metadata": {
        "colab": {
          "base_uri": "https://localhost:8080/"
        },
        "id": "wFCExB6DLqWO",
        "outputId": "76d88827-d5ad-43fd-a804-a0032c615f40"
      },
      "execution_count": 126,
      "outputs": [
        {
          "output_type": "stream",
          "name": "stdout",
          "text": [
            "Looking in indexes: https://pypi.org/simple, https://us-python.pkg.dev/colab-wheels/public/simple/\n",
            "Requirement already satisfied: nltk in /usr/local/lib/python3.7/dist-packages (3.7)\n",
            "Requirement already satisfied: tqdm in /usr/local/lib/python3.7/dist-packages (from nltk) (4.64.1)\n",
            "Requirement already satisfied: regex>=2021.8.3 in /usr/local/lib/python3.7/dist-packages (from nltk) (2022.6.2)\n",
            "Requirement already satisfied: click in /usr/local/lib/python3.7/dist-packages (from nltk) (7.1.2)\n",
            "Requirement already satisfied: joblib in /usr/local/lib/python3.7/dist-packages (from nltk) (1.2.0)\n",
            "Looking in indexes: https://pypi.org/simple, https://us-python.pkg.dev/colab-wheels/public/simple/\n",
            "Requirement already satisfied: wordcloud in /usr/local/lib/python3.7/dist-packages (1.8.2.2)\n",
            "Requirement already satisfied: pillow in /usr/local/lib/python3.7/dist-packages (from wordcloud) (7.1.2)\n",
            "Requirement already satisfied: numpy>=1.6.1 in /usr/local/lib/python3.7/dist-packages (from wordcloud) (1.21.6)\n",
            "Requirement already satisfied: matplotlib in /usr/local/lib/python3.7/dist-packages (from wordcloud) (3.2.2)\n",
            "Requirement already satisfied: pyparsing!=2.0.4,!=2.1.2,!=2.1.6,>=2.0.1 in /usr/local/lib/python3.7/dist-packages (from matplotlib->wordcloud) (3.0.9)\n",
            "Requirement already satisfied: cycler>=0.10 in /usr/local/lib/python3.7/dist-packages (from matplotlib->wordcloud) (0.11.0)\n",
            "Requirement already satisfied: kiwisolver>=1.0.1 in /usr/local/lib/python3.7/dist-packages (from matplotlib->wordcloud) (1.4.4)\n",
            "Requirement already satisfied: python-dateutil>=2.1 in /usr/local/lib/python3.7/dist-packages (from matplotlib->wordcloud) (2.8.2)\n",
            "Requirement already satisfied: typing-extensions in /usr/local/lib/python3.7/dist-packages (from kiwisolver>=1.0.1->matplotlib->wordcloud) (4.1.1)\n",
            "Requirement already satisfied: six>=1.5 in /usr/local/lib/python3.7/dist-packages (from python-dateutil>=2.1->matplotlib->wordcloud) (1.15.0)\n"
          ]
        }
      ]
    },
    {
      "cell_type": "code",
      "source": [
        "from wordcloud import WordCloud\n",
        "import nltk\n",
        "nltk.download(\"stopwords\")\n",
        "nltk.download('punkt')\n",
        "nltk.download('averaged_perceptron_tagger')\n",
        "from nltk.corpus import stopwords\n",
        "from nltk.tokenize import word_tokenize\n",
        "import matplotlib.pyplot as plt"
      ],
      "metadata": {
        "colab": {
          "base_uri": "https://localhost:8080/"
        },
        "id": "TXhZrtp6NKcs",
        "outputId": "e72d7e43-825f-45bd-a129-18d85d7b64e0"
      },
      "execution_count": 127,
      "outputs": [
        {
          "output_type": "stream",
          "name": "stderr",
          "text": [
            "[nltk_data] Downloading package stopwords to /root/nltk_data...\n",
            "[nltk_data]   Package stopwords is already up-to-date!\n",
            "[nltk_data] Downloading package punkt to /root/nltk_data...\n",
            "[nltk_data]   Package punkt is already up-to-date!\n",
            "[nltk_data] Downloading package averaged_perceptron_tagger to\n",
            "[nltk_data]     /root/nltk_data...\n",
            "[nltk_data]   Package averaged_perceptron_tagger is already up-to-\n",
            "[nltk_data]       date!\n"
          ]
        }
      ]
    },
    {
      "cell_type": "markdown",
      "source": [
        "# word cloud를 만드는 함수를 생성"
      ],
      "metadata": {
        "id": "FjrUMjZbNV0s"
      }
    },
    {
      "cell_type": "code",
      "source": [
        "def generate_wordcloud(text): \n",
        "    wordcloud = WordCloud(\n",
        "                          width=800, height=400,\n",
        "                          relative_scaling = 1.0,\n",
        "                          stopwords = {'to', 'of'} #제거하고 싶은 단어를 여기에 입력\n",
        "                          ).generate(text)\n",
        "    \n",
        "    fig = plt.figure(1, figsize=(8, 4))\n",
        "    plt.axis('off')\n",
        "    plt.imshow(wordcloud)\n",
        "    plt.axis(\"off\")"
      ],
      "metadata": {
        "id": "dv3xcmkCNSF3"
      },
      "execution_count": 128,
      "outputs": []
    },
    {
      "cell_type": "markdown",
      "source": [
        "Word Cloud를 위해 단어의 리스트 모든 단어를 한 문자열으로 연결"
      ],
      "metadata": {
        "id": "7TKmxtmPNsqi"
      }
    },
    {
      "cell_type": "code",
      "source": [
        "all_words = []\n",
        "for cleaned_tweet in cleaned_tweets_all:\n",
        "  for word in cleaned_tweet:\n",
        "    all_words.append(word)\n",
        "\n",
        "all_words_str = ' '.join(all_words)"
      ],
      "metadata": {
        "id": "5Nocq6BtNbTu"
      },
      "execution_count": 129,
      "outputs": []
    },
    {
      "cell_type": "code",
      "source": [
        "generate_wordcloud(all_words_str)"
      ],
      "metadata": {
        "colab": {
          "base_uri": "https://localhost:8080/",
          "height": 297
        },
        "id": "dH4mcpUNOHFi",
        "outputId": "75735313-e846-4132-c386-f42f6be324b4"
      },
      "execution_count": 130,
      "outputs": [
        {
          "output_type": "display_data",
          "data": {
            "text/plain": [
              "<Figure size 576x288 with 1 Axes>"
            ],
            "image/png": "[encoded data removed]"
          },
          "metadata": {
            "needs_background": "light"
          }
        }
      ]
    },
    {
      "cell_type": "code",
      "source": [
        "!apt-get install fonts-nanum*\n",
        "!apt-get install fontconfig"
      ],
      "metadata": {
        "colab": {
          "base_uri": "https://localhost:8080/"
        },
        "id": "f1Arl6XE3sJW",
        "outputId": "6c8f245f-f42d-4439-b809-9f5476f7048e"
      },
      "execution_count": 131,
      "outputs": [
        {
          "output_type": "stream",
          "name": "stdout",
          "text": [
            "Reading package lists... Done\n",
            "Building dependency tree       \n",
            "Reading state information... Done\n",
            "Note, selecting 'fonts-nanum-eco' for glob 'fonts-nanum*'\n",
            "Note, selecting 'fonts-nanum' for glob 'fonts-nanum*'\n",
            "Note, selecting 'fonts-nanum-gothic-light' for glob 'fonts-nanum*'\n",
            "Note, selecting 'fonts-nanum-coding' for glob 'fonts-nanum*'\n",
            "Note, selecting 'fonts-nanum-extra' for glob 'fonts-nanum*'\n",
            "fonts-nanum is already the newest version (20170925-1).\n",
            "fonts-nanum-coding is already the newest version (2.5-1).\n",
            "fonts-nanum-eco is already the newest version (1.000-6).\n",
            "fonts-nanum-extra is already the newest version (20170925-1).\n",
            "The following package was automatically installed and is no longer required:\n",
            "  libnvidia-common-460\n",
            "Use 'apt autoremove' to remove it.\n",
            "0 upgraded, 0 newly installed, 0 to remove and 12 not upgraded.\n",
            "Reading package lists... Done\n",
            "Building dependency tree       \n",
            "Reading state information... Done\n",
            "fontconfig is already the newest version (2.12.6-0ubuntu2).\n",
            "The following package was automatically installed and is no longer required:\n",
            "  libnvidia-common-460\n",
            "Use 'apt autoremove' to remove it.\n",
            "0 upgraded, 0 newly installed, 0 to remove and 12 not upgraded.\n"
          ]
        }
      ]
    },
    {
      "cell_type": "code",
      "source": [
        "FONT_PATH = '/usr/share/fonts/truetype/nanum/NanumGothic.ttf'\n",
        "def generate_wordcloud_korean(text): \n",
        "    wordcloud = WordCloud(\n",
        "                          font_path = FONT_PATH,\n",
        "                          width=800, height=400,\n",
        "                          relative_scaling = 1.0,\n",
        "                          stopwords = {'to', 'of'} #제거하고 싶은 단어를 여기에 입력\n",
        "                          ).generate(text)\n",
        "    \n",
        "    fig = plt.figure(1, figsize=(8, 4))\n",
        "    plt.axis('off')\n",
        "    plt.imshow(wordcloud)\n",
        "    plt.axis(\"off\")"
      ],
      "metadata": {
        "id": "HvebGvzM3yaF"
      },
      "execution_count": 132,
      "outputs": []
    },
    {
      "cell_type": "code",
      "source": [
        "generate_wordcloud_korean(\"안녕하세요, 저는 인공지능 입니다.\")"
      ],
      "metadata": {
        "colab": {
          "base_uri": "https://localhost:8080/",
          "height": 297
        },
        "id": "0cJzIcnT7wBB",
        "outputId": "e38f1018-b952-403c-e507-dc118c2309af"
      },
      "execution_count": 133,
      "outputs": [
        {
          "output_type": "display_data",
          "data": {
            "text/plain": [
              "<Figure size 576x288 with 1 Axes>"
            ],
            "image/png": "[encoded data removed]"
          },
          "metadata": {
            "needs_background": "light"
          }
        }
      ]
    },
    {
      "cell_type": "markdown",
      "source": [
        "# 감성분석"
      ],
      "metadata": {
        "id": "xF7rkgFYR6zz"
      }
    },
    {
      "cell_type": "code",
      "source": [
        "!pip install nltk"
      ],
      "metadata": {
        "colab": {
          "base_uri": "https://localhost:8080/"
        },
        "id": "VwJU1kejR55p",
        "outputId": "5b1c890f-2137-431a-f9e9-25404e886b35"
      },
      "execution_count": 134,
      "outputs": [
        {
          "output_type": "stream",
          "name": "stdout",
          "text": [
            "Looking in indexes: https://pypi.org/simple, https://us-python.pkg.dev/colab-wheels/public/simple/\n",
            "Requirement already satisfied: nltk in /usr/local/lib/python3.7/dist-packages (3.7)\n",
            "Requirement already satisfied: joblib in /usr/local/lib/python3.7/dist-packages (from nltk) (1.2.0)\n",
            "Requirement already satisfied: tqdm in /usr/local/lib/python3.7/dist-packages (from nltk) (4.64.1)\n",
            "Requirement already satisfied: regex>=2021.8.3 in /usr/local/lib/python3.7/dist-packages (from nltk) (2022.6.2)\n",
            "Requirement already satisfied: click in /usr/local/lib/python3.7/dist-packages (from nltk) (7.1.2)\n"
          ]
        }
      ]
    },
    {
      "cell_type": "code",
      "source": [
        "import nltk\n",
        "nltk.download([ \"stopwords\",  \"vader_lexicon\"])"
      ],
      "metadata": {
        "colab": {
          "base_uri": "https://localhost:8080/"
        },
        "id": "zD2puDAwSLmy",
        "outputId": "832352c2-e56d-4ff7-90a0-1fab7df84a67"
      },
      "execution_count": 135,
      "outputs": [
        {
          "output_type": "stream",
          "name": "stderr",
          "text": [
            "[nltk_data] Downloading package stopwords to /root/nltk_data...\n",
            "[nltk_data]   Package stopwords is already up-to-date!\n",
            "[nltk_data] Downloading package vader_lexicon to /root/nltk_data...\n",
            "[nltk_data]   Package vader_lexicon is already up-to-date!\n"
          ]
        },
        {
          "output_type": "execute_result",
          "data": {
            "text/plain": [
              "True"
            ]
          },
          "metadata": {},
          "execution_count": 135
        }
      ]
    },
    {
      "cell_type": "code",
      "source": [
        "from nltk.corpus import stopwords\n",
        "from nltk.tokenize import word_tokenize\n",
        "\n",
        "stop_words = stopwords.words('english')\n",
        "print(stop_words)\n",
        "stop_words.extend([\"rt\"]) ###여기서  필요한 stopwords추가\n",
        "print(stop_words)"
      ],
      "metadata": {
        "colab": {
          "base_uri": "https://localhost:8080/"
        },
        "id": "Nzgpe1YOVfyu",
        "outputId": "3ce87ddd-f232-4ce1-bf88-470003dcc8ba"
      },
      "execution_count": 136,
      "outputs": [
        {
          "output_type": "stream",
          "name": "stdout",
          "text": [
            "['i', 'me', 'my', 'myself', 'we', 'our', 'ours', 'ourselves', 'you', \"you're\", \"you've\", \"you'll\", \"you'd\", 'your', 'yours', 'yourself', 'yourselves', 'he', 'him', 'his', 'himself', 'she', \"she's\", 'her', 'hers', 'herself', 'it', \"it's\", 'its', 'itself', 'they', 'them', 'their', 'theirs', 'themselves', 'what', 'which', 'who', 'whom', 'this', 'that', \"that'll\", 'these', 'those', 'am', 'is', 'are', 'was', 'were', 'be', 'been', 'being', 'have', 'has', 'had', 'having', 'do', 'does', 'did', 'doing', 'a', 'an', 'the', 'and', 'but', 'if', 'or', 'because', 'as', 'until', 'while', 'of', 'at', 'by', 'for', 'with', 'about', 'against', 'between', 'into', 'through', 'during', 'before', 'after', 'above', 'below', 'to', 'from', 'up', 'down', 'in', 'out', 'on', 'off', 'over', 'under', 'again', 'further', 'then', 'once', 'here', 'there', 'when', 'where', 'why', 'how', 'all', 'any', 'both', 'each', 'few', 'more', 'most', 'other', 'some', 'such', 'no', 'nor', 'not', 'only', 'own', 'same', 'so', 'than', 'too', 'very', 's', 't', 'can', 'will', 'just', 'don', \"don't\", 'should', \"should've\", 'now', 'd', 'll', 'm', 'o', 're', 've', 'y', 'ain', 'aren', \"aren't\", 'couldn', \"couldn't\", 'didn', \"didn't\", 'doesn', \"doesn't\", 'hadn', \"hadn't\", 'hasn', \"hasn't\", 'haven', \"haven't\", 'isn', \"isn't\", 'ma', 'mightn', \"mightn't\", 'mustn', \"mustn't\", 'needn', \"needn't\", 'shan', \"shan't\", 'shouldn', \"shouldn't\", 'wasn', \"wasn't\", 'weren', \"weren't\", 'won', \"won't\", 'wouldn', \"wouldn't\"]\n",
            "['i', 'me', 'my', 'myself', 'we', 'our', 'ours', 'ourselves', 'you', \"you're\", \"you've\", \"you'll\", \"you'd\", 'your', 'yours', 'yourself', 'yourselves', 'he', 'him', 'his', 'himself', 'she', \"she's\", 'her', 'hers', 'herself', 'it', \"it's\", 'its', 'itself', 'they', 'them', 'their', 'theirs', 'themselves', 'what', 'which', 'who', 'whom', 'this', 'that', \"that'll\", 'these', 'those', 'am', 'is', 'are', 'was', 'were', 'be', 'been', 'being', 'have', 'has', 'had', 'having', 'do', 'does', 'did', 'doing', 'a', 'an', 'the', 'and', 'but', 'if', 'or', 'because', 'as', 'until', 'while', 'of', 'at', 'by', 'for', 'with', 'about', 'against', 'between', 'into', 'through', 'during', 'before', 'after', 'above', 'below', 'to', 'from', 'up', 'down', 'in', 'out', 'on', 'off', 'over', 'under', 'again', 'further', 'then', 'once', 'here', 'there', 'when', 'where', 'why', 'how', 'all', 'any', 'both', 'each', 'few', 'more', 'most', 'other', 'some', 'such', 'no', 'nor', 'not', 'only', 'own', 'same', 'so', 'than', 'too', 'very', 's', 't', 'can', 'will', 'just', 'don', \"don't\", 'should', \"should've\", 'now', 'd', 'll', 'm', 'o', 're', 've', 'y', 'ain', 'aren', \"aren't\", 'couldn', \"couldn't\", 'didn', \"didn't\", 'doesn', \"doesn't\", 'hadn', \"hadn't\", 'hasn', \"hasn't\", 'haven', \"haven't\", 'isn', \"isn't\", 'ma', 'mightn', \"mightn't\", 'mustn', \"mustn't\", 'needn', \"needn't\", 'shan', \"shan't\", 'shouldn', \"shouldn't\", 'wasn', \"wasn't\", 'weren', \"weren't\", 'won', \"won't\", 'wouldn', \"wouldn't\", 'rt']\n"
          ]
        }
      ]
    },
    {
      "cell_type": "markdown",
      "source": [
        "sentiment analysis check"
      ],
      "metadata": {
        "id": "IyatQNCGTiBt"
      }
    },
    {
      "cell_type": "code",
      "source": [
        "from nltk.sentiment.vader import SentimentIntensityAnalyzer\n",
        "\n",
        "sia = SentimentIntensityAnalyzer()\n",
        "sia.polarity_scores(\"Wow, NLTK is really powerful!\")"
      ],
      "metadata": {
        "colab": {
          "base_uri": "https://localhost:8080/"
        },
        "id": "winjZh1SSOyo",
        "outputId": "50952ea9-347c-4b7a-d1a4-09cf1e4eeb96"
      },
      "execution_count": 137,
      "outputs": [
        {
          "output_type": "execute_result",
          "data": {
            "text/plain": [
              "{'neg': 0.0, 'neu': 0.295, 'pos': 0.705, 'compound': 0.8012}"
            ]
          },
          "metadata": {},
          "execution_count": 137
        }
      ]
    },
    {
      "cell_type": "markdown",
      "source": [
        "# (option) 한국어로 간단하게 감성분석 하는 방법:google Translate"
      ],
      "metadata": {
        "id": "ufqyM86-pP4Q"
      }
    },
    {
      "cell_type": "code",
      "source": [
        "!pip install googletrans==4.0.0-rc1"
      ],
      "metadata": {
        "colab": {
          "base_uri": "https://localhost:8080/"
        },
        "id": "omwDc_y6pOdi",
        "outputId": "e50598fd-73f7-432f-b098-75cd63f43004"
      },
      "execution_count": 138,
      "outputs": [
        {
          "output_type": "stream",
          "name": "stdout",
          "text": [
            "Looking in indexes: https://pypi.org/simple, https://us-python.pkg.dev/colab-wheels/public/simple/\n",
            "Requirement already satisfied: googletrans==4.0.0-rc1 in /usr/local/lib/python3.7/dist-packages (4.0.0rc1)\n",
            "Requirement already satisfied: httpx==0.13.3 in /usr/local/lib/python3.7/dist-packages (from googletrans==4.0.0-rc1) (0.13.3)\n",
            "Requirement already satisfied: hstspreload in /usr/local/lib/python3.7/dist-packages (from httpx==0.13.3->googletrans==4.0.0-rc1) (2022.10.1)\n",
            "Requirement already satisfied: chardet==3.* in /usr/local/lib/python3.7/dist-packages (from httpx==0.13.3->googletrans==4.0.0-rc1) (3.0.4)\n",
            "Requirement already satisfied: sniffio in /usr/local/lib/python3.7/dist-packages (from httpx==0.13.3->googletrans==4.0.0-rc1) (1.3.0)\n",
            "Requirement already satisfied: idna==2.* in /usr/local/lib/python3.7/dist-packages (from httpx==0.13.3->googletrans==4.0.0-rc1) (2.10)\n",
            "Requirement already satisfied: rfc3986<2,>=1.3 in /usr/local/lib/python3.7/dist-packages (from httpx==0.13.3->googletrans==4.0.0-rc1) (1.5.0)\n",
            "Requirement already satisfied: certifi in /usr/local/lib/python3.7/dist-packages (from httpx==0.13.3->googletrans==4.0.0-rc1) (2022.9.24)\n",
            "Requirement already satisfied: httpcore==0.9.* in /usr/local/lib/python3.7/dist-packages (from httpx==0.13.3->googletrans==4.0.0-rc1) (0.9.1)\n",
            "Requirement already satisfied: h11<0.10,>=0.8 in /usr/local/lib/python3.7/dist-packages (from httpcore==0.9.*->httpx==0.13.3->googletrans==4.0.0-rc1) (0.9.0)\n",
            "Requirement already satisfied: h2==3.* in /usr/local/lib/python3.7/dist-packages (from httpcore==0.9.*->httpx==0.13.3->googletrans==4.0.0-rc1) (3.2.0)\n",
            "Requirement already satisfied: hpack<4,>=3.0 in /usr/local/lib/python3.7/dist-packages (from h2==3.*->httpcore==0.9.*->httpx==0.13.3->googletrans==4.0.0-rc1) (3.0.0)\n",
            "Requirement already satisfied: hyperframe<6,>=5.2.0 in /usr/local/lib/python3.7/dist-packages (from h2==3.*->httpcore==0.9.*->httpx==0.13.3->googletrans==4.0.0-rc1) (5.2.0)\n"
          ]
        }
      ]
    },
    {
      "cell_type": "code",
      "source": [
        "from googletrans import Translator\n",
        "translator = Translator()\n",
        "original_text = '안녕하세요. 역시 파이썬은 너무 좋네요'\n",
        "translations = translator.translate(original_text, 'en')\n",
        "print(original_text)\n",
        "print(translations.text)\n",
        "translated_text = translations.text\n",
        "\n",
        "sia = SentimentIntensityAnalyzer()\n",
        "sia.polarity_scores(translated_text)"
      ],
      "metadata": {
        "colab": {
          "base_uri": "https://localhost:8080/"
        },
        "id": "4PEns6XGpnEp",
        "outputId": "a6963061-af7d-4601-9c0c-3629589adc88"
      },
      "execution_count": 139,
      "outputs": [
        {
          "output_type": "stream",
          "name": "stdout",
          "text": [
            "안녕하세요. 역시 파이썬은 너무 좋네요\n",
            "hello.After all, Python is so good\n"
          ]
        },
        {
          "output_type": "execute_result",
          "data": {
            "text/plain": [
              "{'neg': 0.0, 'neu': 0.572, 'pos': 0.428, 'compound': 0.5777}"
            ]
          },
          "metadata": {},
          "execution_count": 139
        }
      ]
    },
    {
      "cell_type": "markdown",
      "source": [
        "# 데이터셋 전체에 대해서 Sentiment Analysis 실행"
      ],
      "metadata": {
        "id": "IXxUZ7iOuKud"
      }
    },
    {
      "cell_type": "code",
      "source": [
        "sentiment_result = []\n",
        "\n",
        "for tweet in df.content:\n",
        "  cleaned_tweet = []\n",
        "  cleaned_tweet_string = CleanText(tweet, Num=True, Eng=False)\n",
        "  tweet_tokens = word_tokenize(cleaned_tweet_string)\n",
        "  for token in tweet_tokens:\n",
        "    if token.lower() not in stop_words:\n",
        "      cleaned_tweet.append(token)\n",
        "\n",
        "  cleaned_tweet_str = ' '.join(cleaned_tweet)\n",
        "  print(\"전처리 전: \" + tweet)\n",
        "  print(\"전처리 후: \" + cleaned_tweet_str)\n",
        "  print(sia.polarity_scores(cleaned_tweet_str))\n",
        "\n",
        "  #positive or negative 분류 compound score가 0 보다 크면 positive, 이하는 negative로 함\n",
        "  compound_point = sia.polarity_scores(cleaned_tweet_str)['compound']\n",
        "  if compound_point > 0:\n",
        "    sentiment_result.append('Positive')\n",
        "\n",
        "  else:\n",
        "    sentiment_result.append('Negative')"
      ],
      "metadata": {
        "id": "XrBONu0wScrQ",
        "colab": {
          "base_uri": "https://localhost:8080/"
        },
        "outputId": "17567493-346f-459f-f473-0dd4556f2939"
      },
      "execution_count": 140,
      "outputs": [
        {
          "output_type": "stream",
          "name": "stdout",
          "text": [
            "전처리 전: me deprimo en tiktok viendo que todas se fueron a corea para ir al concierto de busan, jesus sufro\n",
            "\n",
            "I'm voting for BTS (@BTS) for Favorite Pop Duo or Group at the #AMAs\n",
            "전처리 후: deprimo en tiktok viendo que todas se fueron corea para ir al concierto de busan jesus sufro voting BTS Favorite Pop Duo Group AMAs\n",
            "{'neg': 0.0, 'neu': 0.885, 'pos': 0.115, 'compound': 0.4588}\n",
            "전처리 전: @hobibisa hii are you going to attend the concert in busan? can i have a request pleaseee? 🥺\n",
            "전처리 후: hii going attend concert busan request pleaseee\n",
            "{'neg': 0.0, 'neu': 1.0, 'pos': 0.0, 'compound': 0.0}\n",
            "전처리 전: Que envidia a las personas que estan en Busan 😔\n",
            "전처리 후: Que envidia las personas que estan en Busan\n",
            "{'neg': 0.0, 'neu': 1.0, 'pos': 0.0, 'compound': 0.0}\n",
            "전처리 전: Yo quería ir al concierto en Busan 😭😭\n",
            "전처리 후: Yo quer ir al concierto en Busan\n",
            "{'neg': 0.0, 'neu': 1.0, 'pos': 0.0, 'compound': 0.0}\n",
            "전처리 전: ttp streaming di era gempuran goes to busan ck https://t.co/BlufBKL6aV\n",
            "전처리 후: ttp streaming di era gempuran goes busan ck\n",
            "{'neg': 0.0, 'neu': 1.0, 'pos': 0.0, 'compound': 0.0}\n",
            "전처리 전: j-hope on Weverse | 221014\n",
            "\n",
            "🐿: Before going to sleep heart like this to🫰\n",
            "ARMY, please look forward to the Busan concert heart.🫰\n",
            "\n",
            "📍https://t.co/WODI8sb2mf\n",
            "#BTS #방탄소년단 @BTS_twt https://t.co/C9hWkRruQd\n",
            "전처리 후: j hope Weverse going sleep heart like ARMY please look forward Busan concert heart BTS 방탄소년단\n",
            "{'neg': 0.0, 'neu': 0.609, 'pos': 0.391, 'compound': 0.7717}\n",
            "전처리 전: 釜山に行かれるアミの皆さま\n",
            "、どうぞ気をつけて行ってらっしゃい～！\n",
            "私は釜山に近い福岡でTVで応援😆楽しみます💜\n",
            "#bts #Busan\n",
            "전처리 후: TV bts Busan\n",
            "{'neg': 0.0, 'neu': 1.0, 'pos': 0.0, 'compound': 0.0}\n",
            "전처리 전: 221013 ; #HOSEOK 🐿 ~23:22[KST] \n",
            " Historia de Instagram (6) 🎬🐥🏟️\n",
            "\n",
            "#uarmyhope: Busan cutie Jimin\n",
            "#uarmyhope: Lindo Jimin de Busan\n",
            "\n",
            "📍https://t.co/glLgd9LZqv\n",
            "#jhope #제이홉 #Jimin #지민 https://t.co/4j12fBZFhQ\n",
            "전처리 후: HOSEOK KST Historia de Instagram uarmyhope Busan cutie Jimin uarmyhope Lindo Jimin de Busan jhope 제이홉 Jimin 지민\n",
            "{'neg': 0.0, 'neu': 0.872, 'pos': 0.128, 'compound': 0.3612}\n",
            "전처리 전: Sana nasa busan din ako ngayon ☹️\n",
            "전처리 후: Sana nasa busan din ako ngayon\n",
            "{'neg': 0.0, 'neu': 1.0, 'pos': 0.0, 'compound': 0.0}\n",
            "전처리 전: cada vez q entro a tiktok m aparecen videos de armys en busan, BASTA, QUIEREN QUW M SUICIDE?\n",
            "전처리 후: cada vez q entro tiktok aparecen videos de armys en busan BASTA QUIEREN QUW SUICIDE\n",
            "{'neg': 0.287, 'neu': 0.713, 'pos': 0.0, 'compound': -0.7378}\n",
            "전처리 전: @almostdita @BTS_twt Morning🥰🥰🥰🥰 D-1 before busan concert😍😍😍\n",
            "\n",
            "Voting for @BTS_twt for Favorite Pop Duo or Group at the #AMAs\n",
            "전처리 후: Morning busan concert Voting Favorite Pop Duo Group AMAs\n",
            "{'neg': 0.0, 'neu': 0.727, 'pos': 0.273, 'compound': 0.4588}\n",
            "전처리 전: Fui baixar o Zepeto pra ser um extra pro show de Busan e quase perdi umas 3 horas pra customizar meu bonequinho k\n",
            "전처리 후: Fui baixar Zepeto pra ser um extra pro show de Busan e quase perdi umas horas pra customizar meu bonequinho k\n",
            "{'neg': 0.0, 'neu': 1.0, 'pos': 0.0, 'compound': 0.0}\n",
            "전처리 전: LFS • WTB • SALE • SELL\n",
            "\n",
            "2022 BTS EXHIBITION : PROOF in SEOUL &amp; BUSAN\n",
            "\n",
            "LUCKY DRAW PHOTOCARD (PVC) &amp; LENTICULAR POSTCARD SET - JUNGKOOK (JK)\n",
            "\n",
            "RFS: DUPE\n",
            "Selling as set only\n",
            "PAYO\n",
            "\n",
            "Meet up: Lotte Adventure later today /\n",
            "Oct 15 concert day at Asiad Stadium\n",
            "\n",
            "Pls help RT.\n",
            "DM~ https://t.co/Tx7uM0pBSl\n",
            "전처리 후: LFS WTB SALE SELL BTS EXHIBITION PROOF SEOUL BUSAN LUCKY DRAW PHOTOCARD PVC LENTICULAR POSTCARD SET JUNGKOOK JK RFS DUPE Selling set PAYO Meet Lotte Adventure later today Oct concert day Asiad Stadium Pls help DM\n",
            "{'neg': 0.071, 'neu': 0.656, 'pos': 0.273, 'compound': 0.8038}\n",
            "전처리 전: good morning busan! ☀️\n",
            "전처리 후: good morning busan\n",
            "{'neg': 0.0, 'neu': 0.408, 'pos': 0.592, 'compound': 0.4404}\n",
            "전처리 전: Literal TODO BUSAN ES BTS, los aviones, taxis, buses reproduciendo los mv y canciones de bts, dando la bienvenida a Army en el aeropuerto, posters de bts, todos TODOS hablando sobre el concierto. El impacto que genera bts, primero Las Vegas y ahora Busan. \n",
            "\n",
            "#YetToComeinBUSAN\n",
            "전처리 후: Literal TODO BUSAN ES BTS los aviones taxis buses reproduciendo los mv canciones de bts dando la bienvenida Army en el aeropuerto posters de bts todos TODOS hablando sobre el concierto El impacto que genera bts primero Las Vegas ahora Busan YetToComeinBUSAN\n",
            "{'neg': 0.0, 'neu': 1.0, 'pos': 0.0, 'compound': 0.0}\n",
            "전처리 전: whenever i see wonstein now i just only think of that busan world expo mv that kept playing at kcon https://t.co/b46a4G37ul\n",
            "전처리 후: whenever see wonstein think busan world expo mv kept playing kcon\n",
            "{'neg': 0.0, 'neu': 0.847, 'pos': 0.153, 'compound': 0.2023}\n",
            "전처리 전: well I'm going to an airbnb w/no bts things an hour away from busan how about that 😍 https://t.co/zPtbCLpx6q\n",
            "전처리 후: well going airbnb w bts things hour away busan\n",
            "{'neg': 0.0, 'neu': 0.769, 'pos': 0.231, 'compound': 0.2732}\n",
            "전처리 전: q ganas de estar en busan preparándome para ir al concierto de bangtan\n",
            "전처리 후: q ganas de estar en busan prepar ndome para ir al concierto de bangtan\n",
            "{'neg': 0.0, 'neu': 1.0, 'pos': 0.0, 'compound': 0.0}\n",
            "전처리 전: shaking at the fact that i should be at busan rn and not at work 🫠🫠🫠 haaay soon talaga\n",
            "전처리 후: shaking fact busan rn work haaay soon talaga\n",
            "{'neg': 0.195, 'neu': 0.805, 'pos': 0.0, 'compound': -0.1779}\n",
            "전처리 전: yet to come in busan 🏟️🏖️\n",
            "\n",
            "icon border: https://t.co/eRVqYnzysc\n",
            "\n",
            "header: https://t.co/M0ZpPHaWTm\n",
            "전처리 후: yet come busan icon border header\n",
            "{'neg': 0.0, 'neu': 1.0, 'pos': 0.0, 'compound': 0.0}\n",
            "전처리 전: YET TO COME IN BUSAN IN 1 DAY, YALLLLLLLLLLL LET’s FUCKING GOOO https://t.co/I4npza6OBt\n",
            "전처리 후: YET COME BUSAN DAY YALLLLLLLLLLL LET FUCKING GOOO\n",
            "{'neg': 0.0, 'neu': 1.0, 'pos': 0.0, 'compound': 0.0}\n",
            "전처리 전: Estamos a pocas horas para disfruar de este maravilloso Concierto YET TO COME BUSAN, les dejo los horarios y canales de transmisíón #YetToComeinBUSAN #YetToCome_on_Weverse #yetToCome_on_zepeto #NAVER_NOW #BTSYettocomeINBusan #BTSARMY #BTS https://t.co/3F9CuV2BxY\n",
            "전처리 후: Estamos pocas horas para disfruar de este maravilloso Concierto YET COME BUSAN les dejo los horarios canales de transmis n YetToComeinBUSAN YetToCome Weverse yetToCome zepeto NAVER BTSYettocomeINBusan BTSARMY BTS\n",
            "{'neg': 0.0, 'neu': 1.0, 'pos': 0.0, 'compound': 0.0}\n",
            "전처리 전: 🚆 busan\n",
            "전처리 후: busan\n",
            "{'neg': 0.0, 'neu': 1.0, 'pos': 0.0, 'compound': 0.0}\n",
            "전처리 전: already saw the footages for run bts, ma city &amp; youth ohhh busan’s setlist abt to be INSANEEEE\n",
            "전처리 후: already saw footages run bts city youth ohhh busan setlist abt INSANEEEE\n",
            "{'neg': 0.0, 'neu': 1.0, 'pos': 0.0, 'compound': 0.0}\n",
            "전처리 전: I'm so jealous of everyone in Busan rn,,,why can't that be meee!!!! https://t.co/zyDkQhSZNf\n",
            "전처리 후: jealous everyone Busan rn meee\n",
            "{'neg': 0.429, 'neu': 0.571, 'pos': 0.0, 'compound': -0.4588}\n",
            "전처리 전: @busan__ghoul I know😭😭\n",
            "전처리 후: know\n",
            "{'neg': 0.0, 'neu': 1.0, 'pos': 0.0, 'compound': 0.0}\n",
            "전처리 전: lo garrapatas q van a estar ciertos nacidos en busan hoy, ojala cierren el show con un beso si\n",
            "전처리 후: lo garrapatas q van estar ciertos nacidos en busan hoy ojala cierren el show con un beso si\n",
            "{'neg': 0.0, 'neu': 1.0, 'pos': 0.0, 'compound': 0.0}\n",
            "전처리 전: Korean actor Lee Si-eon mentioned Jungkook on his vlog:\n",
            "\n",
            "\"Jungkook-ssi, I want to see you once.. from Sieon (feat Yongsan) YT channel, 'Sieon's cool.' I personally like you so much because we lived in the same neighborhood (Mandeok-dong, Buk-gu, Busan)\n",
            "\n",
            "https://t.co/eBmJn0Rxgv\n",
            "전처리 후: Korean actor Lee Si eon mentioned Jungkook vlog Jungkook ssi want see Sieon feat Yongsan YT channel Sieon cool personally like much lived neighborhood Mandeok dong Buk gu Busan\n",
            "{'neg': 0.0, 'neu': 0.81, 'pos': 0.19, 'compound': 0.6249}\n",
            "전처리 전: I can’t wait for busan concert 🥺 good luck boys💜 https://t.co/qhqlqN9u3b\n",
            "전처리 후: wait busan concert good luck boys\n",
            "{'neg': 0.0, 'neu': 0.404, 'pos': 0.596, 'compound': 0.7096}\n",
            "전처리 전: Ready for my trip to Busan 🥰\n",
            "SEE TOU TOMMOROW BTS 😭💜\n",
            "#YetToComeinBUSAN https://t.co/ZkmH2jVBGr\n",
            "전처리 후: Ready trip Busan SEE TOU TOMMOROW BTS YetToComeinBUSAN\n",
            "{'neg': 0.0, 'neu': 0.737, 'pos': 0.263, 'compound': 0.3612}\n",
            "전처리 전: Que hermoso por Dios! BUSAN ES AHORA BORACITY\n",
            "PRECIOSO https://t.co/SeM9ip4CCc\n",
            "전처리 후: Que hermoso por Dios BUSAN ES AHORA BORACITY PRECIOSO\n",
            "{'neg': 0.0, 'neu': 1.0, 'pos': 0.0, 'compound': 0.0}\n",
            "전처리 전: bangtan presentará una nueva canción en el concierto de busan \n",
            "\n",
            "fuente: de los deseos\n",
            "전처리 후: bangtan presentar una nueva canci n en el concierto de busan fuente de los deseos\n",
            "{'neg': 0.0, 'neu': 1.0, 'pos': 0.0, 'compound': 0.0}\n",
            "전처리 전: 221013 | Yet to Come in Busan Concert Rehearsals - TAEHYUNG♥️\n",
            "https://t.co/vgEEVqRiDl\n",
            "전처리 후: Yet Come Busan Concert Rehearsals TAEHYUNG\n",
            "{'neg': 0.0, 'neu': 1.0, 'pos': 0.0, 'compound': 0.0}\n",
            "전처리 전: Heading to Busan buy first Starbucks 🥰✨ https://t.co/MCDk9UNh6o\n",
            "전처리 후: Heading Busan buy first Starbucks\n",
            "{'neg': 0.0, 'neu': 1.0, 'pos': 0.0, 'compound': 0.0}\n",
            "전처리 전: I wish i was at Busan right now huhu \n",
            "\n",
            "Voting for @BTS_twt for Favorite Pop Duo or Group at the #AMAs2022\n",
            "전처리 후: wish Busan right huhu Voting Favorite Pop Duo Group AMAs\n",
            "{'neg': 0.0, 'neu': 0.584, 'pos': 0.416, 'compound': 0.6908}\n",
            "전처리 전: •💜VeArmy To Busan💜•\n",
            "\n",
            "Damos inicio al 1er día de sp en Spotify, iTunes &amp; Shazam para apoyar el #BTS #BusanConcert🏖️\n",
            "\n",
            "— Corran🏃 a la cuenta de  @BangtanVzla para participar en la dinámica usando:\n",
            "\n",
            "🔑: Yet To Come The city In Venezuela\n",
            "#VeArmyToBusan #VenezuelaIsPurpleToo\n",
            "⬇️ https://t.co/35nGWwqEgM\n",
            "전처리 후: VeArmy Busan Damos inicio al er de sp en Spotify iTunes Shazam para apoyar el BTS BusanConcert Corran la cuenta de para participar en la din mica usando Yet Come city Venezuela VeArmyToBusan VenezuelaIsPurpleToo\n",
            "{'neg': 0.0, 'neu': 1.0, 'pos': 0.0, 'compound': 0.0}\n",
            "전처리 전: But RIP if you have exams tho you can’t postpone them sorry :( but please let’s celebrate busan’s concert together tomorrow can’t wait eeeeeeeeeeeeeekkk\n",
            "전처리 후: RIP exams tho postpone sorry please let celebrate busan concert together tomorrow wait eeeeeeeeeeeeeekkk\n",
            "{'neg': 0.167, 'neu': 0.521, 'pos': 0.312, 'compound': 0.5859}\n",
            "전처리 전: 💜 YET TO COME IN BUSAN 💜\n",
            "\n",
            "เริ่มจัดส่งในเกาหลี 12/12 - 19/12\n",
            "\n",
            "🖇️คอนเสิร์ตรอบนี้มาในธีมสีม่วง สวยมาก ตอบโจทย์ใครที่ไม่สามารถไปซื้อหน้าคอนได้สุดๆ\n",
            "\n",
            "✈️ รอสินค้าหลังส่งกลับ 7-10วัน\n",
            "📮เเฟลช ems ลทบ. เริ่มต้น 45฿\n",
            "🛒 สนใจสอบถาม dm\n",
            "\n",
            "#ตลาดนัดบังทัน #ตลาดนัดรถไฟบังทัน #ตลาดนัดBTS https://t.co/XtiqOJHsgC\n",
            "전처리 후: YET COME BUSAN ems dm BTS\n",
            "{'neg': 0.0, 'neu': 1.0, 'pos': 0.0, 'compound': 0.0}\n",
            "전처리 전: out of office mode and excited for yet to come in busan lezgaaaaaur 🎉\n",
            "\n",
            "#1DayTillBusanConcert\n",
            "#1DayToBusanConcert \n",
            "#YetToComeinBUSAN\n",
            "#BTS_2030BusanWorldExpo https://t.co/zGovkUgxI4\n",
            "전처리 후: office mode excited yet come busan lezgaaaaaur DayTillBusanConcert DayToBusanConcert YetToComeinBUSAN BTS BusanWorldExpo\n",
            "{'neg': 0.0, 'neu': 0.821, 'pos': 0.179, 'compound': 0.34}\n",
            "전처리 전: EN ESTOS MOMENTOS QUIERO ESTAR EN BUSAN 😭💜\n",
            "전처리 후: EN ESTOS MOMENTOS QUIERO ESTAR EN BUSAN\n",
            "{'neg': 0.0, 'neu': 1.0, 'pos': 0.0, 'compound': 0.0}\n",
            "전처리 전: yo quiero estar en busan :( todo está muy lindo.\n",
            "전처리 후: yo quiero estar en busan todo est muy lindo\n",
            "{'neg': 0.0, 'neu': 1.0, 'pos': 0.0, 'compound': 0.0}\n",
            "전처리 전: Train to busan 🫶🏼 https://t.co/m7dPiJ1zoq\n",
            "전처리 후: Train busan\n",
            "{'neg': 0.0, 'neu': 1.0, 'pos': 0.0, 'compound': 0.0}\n",
            "전처리 전: I'm so jealous of everyone in busan right now 😭😭\n",
            "전처리 후: jealous everyone busan right\n",
            "{'neg': 0.5, 'neu': 0.5, 'pos': 0.0, 'compound': -0.4588}\n",
            "전처리 전: literally why everybody in busan right now I'm jealous https://t.co/BhDuPww5VQ\n",
            "전처리 후: literally everybody busan right jealous\n",
            "{'neg': 0.429, 'neu': 0.571, 'pos': 0.0, 'compound': -0.4588}\n",
            "전처리 전: kenapa gue ngerasa org2 smua udh pada di busan dan gue tinggal sndrian di rumah 😭\n",
            "전처리 후: kenapa gue ngerasa org smua udh pada di busan dan gue tinggal sndrian di rumah\n",
            "{'neg': 0.0, 'neu': 1.0, 'pos': 0.0, 'compound': 0.0}\n",
            "전처리 전: HAVING FOMO WISH I WAS IN BUSAN RN\n",
            "전처리 후: FOMO WISH BUSAN RN\n",
            "{'neg': 0.0, 'neu': 0.526, 'pos': 0.474, 'compound': 0.4019}\n",
            "전처리 전: i would trade anything to be in busan right now https://t.co/G6BOyzMbUU\n",
            "전처리 후: would trade anything busan right\n",
            "{'neg': 0.0, 'neu': 1.0, 'pos': 0.0, 'compound': 0.0}\n",
            "전처리 전: @sweetnighttval ALGUIEN DE ACA ESTÁ EN BUSAN ???  OMG😭\n",
            "전처리 후: ALGUIEN DE ACA EST EN BUSAN OMG\n",
            "{'neg': 0.0, 'neu': 1.0, 'pos': 0.0, 'compound': 0.0}\n",
            "전처리 전: el tete diciendo sisi busan tambien es como mi hogar !\n",
            "전처리 후: el tete diciendo sisi busan tambien es como mi hogar\n",
            "{'neg': 0.0, 'neu': 1.0, 'pos': 0.0, 'compound': 0.0}\n",
            "전처리 전: acho que nem vou no vôlei sábado só pra ficar por conta de assistir o show de busan😴😴\n",
            "전처리 후: acho que nem vou v lei bado pra ficar por conta de assistir show de busan\n",
            "{'neg': 0.0, 'neu': 1.0, 'pos': 0.0, 'compound': 0.0}\n",
            "전처리 전: estaria para el comeback de bora bora v bora ft el minkookie edicion busan la verdad…\n",
            "전처리 후: estaria para el comeback de bora bora v bora ft el minkookie edicion busan la verdad\n",
            "{'neg': 0.0, 'neu': 1.0, 'pos': 0.0, 'compound': 0.0}\n",
            "전처리 전: My vote is for @BTS_twt for Favorite Pop Duo or Group at #AMAS \n",
            "\n",
            "WE ARE OFFICIALLY A DAY AWAY FROM YET TO COME BUSAN CONCERT!!! 🔥🔥🔥💜💜💜 https://t.co/GW6uOC88b4\n",
            "전처리 후: vote Favorite Pop Duo Group AMAS OFFICIALLY DAY AWAY YET COME BUSAN CONCERT\n",
            "{'neg': 0.0, 'neu': 0.8, 'pos': 0.2, 'compound': 0.4588}\n",
            "전처리 전: Oh my god oh my god one more sleep till the busan concert\n",
            "전처리 후: Oh god oh god one sleep till busan concert\n",
            "{'neg': 0.0, 'neu': 0.625, 'pos': 0.375, 'compound': 0.4939}\n",
            "전처리 전: Eu queria tá viajando pra busan agora\n",
            "전처리 후: Eu queria viajando pra busan agora\n",
            "{'neg': 0.0, 'neu': 1.0, 'pos': 0.0, 'compound': 0.0}\n",
            "전처리 전: *Seeing my ex-cowork flying to busan for bts concert*  \n",
            "i🧘‍♀️am 🧘‍♀️not🧘‍♀️jealous🧘‍♀️ i🧘‍♀️am 🧘‍♀️not 🧘‍♀️jealous 🧘‍♀️i🧘‍♀️am 🧘‍♀️not 🧘‍♀️jealous🧘‍♀️😭\n",
            "전처리 후: Seeing ex cowork flying busan bts concert jealous jealous jealous\n",
            "{'neg': 0.562, 'neu': 0.438, 'pos': 0.0, 'compound': -0.8402}\n",
            "전처리 전: Scrolling my social media accounts.\n",
            "Seeing many greetings for our baby mochi. He is well loved. Our pretty angel fairy Jimin.\n",
            "Seeing ARMYs' experiences at Busan. Their hotels, the freebies, the views, the hybe insight, the Magnate, etc. Kakaingit talaga!\n",
            "전처리 후: Scrolling social media accounts Seeing many greetings baby mochi well loved pretty angel fairy Jimin Seeing ARMYs experiences Busan hotels freebies views hybe insight Magnate etc Kakaingit talaga\n",
            "{'neg': 0.0, 'neu': 0.608, 'pos': 0.392, 'compound': 0.93}\n",
            "전처리 전: gais gue blm bisa move on dri konser txt😭\n",
            "dan besok udh ada konser bts busan😭😭\n",
            "전처리 후: gais gue blm bisa move dri konser txt dan besok udh ada konser bts busan\n",
            "{'neg': 0.0, 'neu': 1.0, 'pos': 0.0, 'compound': 0.0}\n",
            "전처리 전: there’s lucky draws for the busan concert and I’ll probably regret not joining a go but that’s a problem for another day\n",
            "전처리 후: lucky draws busan concert probably regret joining go problem another day\n",
            "{'neg': 0.337, 'neu': 0.491, 'pos': 0.172, 'compound': -0.4019}\n",
            "전처리 전: my irl that won busan tickets just video called me so i could accompany her while walking around the stadium 🥹\n",
            "전처리 후: irl busan tickets video called could accompany walking around stadium\n",
            "{'neg': 0.0, 'neu': 1.0, 'pos': 0.0, 'compound': 0.0}\n",
            "전처리 전: Kalo JD nonton Busan, skr aku udh jalan2 disana 🥺 bukan nya kerja\n",
            "전처리 후: Kalo JD nonton Busan skr aku udh jalan disana bukan nya kerja\n",
            "{'neg': 0.0, 'neu': 1.0, 'pos': 0.0, 'compound': 0.0}\n",
            "전처리 전: Y SI TENEMOS TONY MONTANA Y 1 VERSE EN EL CONCIERTO DE BUSAN?????\n",
            "전처리 후: SI TENEMOS TONY MONTANA VERSE EN EL CONCIERTO DE BUSAN\n",
            "{'neg': 0.0, 'neu': 1.0, 'pos': 0.0, 'compound': 0.0}\n",
            "전처리 전: Me going to busan to turn off everything so nobody can see jk https://t.co/G6XcAuZsbD\n",
            "전처리 후: going busan turn everything nobody see jk\n",
            "{'neg': 0.0, 'neu': 0.759, 'pos': 0.241, 'compound': 0.2263}\n",
            "전처리 전: D-1 ytc concert busan... 🥹\n",
            "전처리 후: ytc concert busan\n",
            "{'neg': 0.0, 'neu': 1.0, 'pos': 0.0, 'compound': 0.0}\n",
            "전처리 전: Tengo la esperanza que en el concierto de Busan se le vea\n",
            "전처리 후: Tengo la esperanza que en el concierto de Busan se le vea\n",
            "{'neg': 0.0, 'neu': 1.0, 'pos': 0.0, 'compound': 0.0}\n",
            "전처리 전: I can't sleep 😍😍😍😍😍😍😍😍😍 I'm gonna s word, my first class tomorrow is geometry and I can't fucking sleep. I haven't been sleeping shit for 3 days :(( I hope I don't fall asleep tomorrow, I wanna watch the Busan concert :(\n",
            "전처리 후: sleep gon na word first class tomorrow geometry fucking sleep sleeping shit days hope fall asleep tomorrow wan na watch Busan concert\n",
            "{'neg': 0.144, 'neu': 0.747, 'pos': 0.108, 'compound': -0.2415}\n",
            "전처리 전: potangena busan exhibit, last chance &amp; only hope na kita. pag sold out pa din, ayoko na mabuhay 😭😭\n",
            "전처리 후: potangena busan exhibit last chance hope na kita pag sold pa din ayoko na mabuhay\n",
            "{'neg': 0.0, 'neu': 0.726, 'pos': 0.274, 'compound': 0.5994}\n",
            "전처리 전: [💜VeArmy To Busan💜]\n",
            "\n",
            "Damos inicio al 1er día del sp en SPOTIFY, ITUNES &amp; SHAZAM para apoyar el concierto de #BTS en Busan🏖️\n",
            "\n",
            "— Dejen su 📸 en nuestra siguiente dinámica usando:\n",
            "\n",
            "🔑: Yet To Come The city In Venezuela\n",
            "#VeArmyToBusan #VenezuelaIsPurpleToo\n",
            "\n",
            "OBJ. + PLAYLIST👇\n",
            "(+) https://t.co/KOHOFgNoOX\n",
            "전처리 후: VeArmy Busan Damos inicio al er del sp en SPOTIFY ITUNES SHAZAM para apoyar el concierto de BTS en Busan Dejen su en nuestra siguiente din mica usando Yet Come city Venezuela VeArmyToBusan VenezuelaIsPurpleToo OBJ PLAYLIST\n",
            "{'neg': 0.0, 'neu': 1.0, 'pos': 0.0, 'compound': 0.0}\n"
          ]
        }
      ]
    },
    {
      "cell_type": "markdown",
      "source": [
        "감성분석의 시각화"
      ],
      "metadata": {
        "id": "dFnBaAoLfX1Z"
      }
    },
    {
      "cell_type": "code",
      "source": [
        "from matplotlib import pyplot as plt\n",
        "\n",
        "# Set the figure size\n",
        "plt.rcParams[\"figure.figsize\"] = [3.0, 3.50]\n",
        "plt.rcParams[\"figure.autolayout\"] = True\n",
        "\n",
        "# Plot bar chart with data points\n",
        "plt.hist(sentiment_result)\n",
        "\n",
        "# Display the plot\n",
        "plt.show()"
      ],
      "metadata": {
        "colab": {
          "base_uri": "https://localhost:8080/",
          "height": 261
        },
        "id": "FQm1cFxXYvwc",
        "outputId": "b52d60be-0fad-4c09-d210-774a0a7e3369"
      },
      "execution_count": 141,
      "outputs": [
        {
          "output_type": "display_data",
          "data": {
            "text/plain": [
              "<Figure size 216x252 with 1 Axes>"
            ],
            "image/png": "[encoded data removed]"
          },
          "metadata": {
            "needs_background": "light"
          }
        }
      ]
    },
    {
      "cell_type": "markdown",
      "source": [
        "# Topic Analysis"
      ],
      "metadata": {
        "id": "r_O0JHLHbPPi"
      }
    },
    {
      "cell_type": "code",
      "source": [
        "!pip install gensim\n",
        "!pip install nltk"
      ],
      "metadata": {
        "colab": {
          "base_uri": "https://localhost:8080/"
        },
        "id": "yMt9L4HubSMp",
        "outputId": "8546b2d3-989d-442e-a9bb-ef147285b45e"
      },
      "execution_count": 94,
      "outputs": [
        {
          "output_type": "stream",
          "name": "stdout",
          "text": [
            "Looking in indexes: https://pypi.org/simple, https://us-python.pkg.dev/colab-wheels/public/simple/\n",
            "Requirement already satisfied: gensim in /usr/local/lib/python3.7/dist-packages (3.6.0)\n",
            "Requirement already satisfied: numpy>=1.11.3 in /usr/local/lib/python3.7/dist-packages (from gensim) (1.21.6)\n",
            "Requirement already satisfied: smart-open>=1.2.1 in /usr/local/lib/python3.7/dist-packages (from gensim) (5.2.1)\n",
            "Requirement already satisfied: scipy>=0.18.1 in /usr/local/lib/python3.7/dist-packages (from gensim) (1.7.3)\n",
            "Requirement already satisfied: six>=1.5.0 in /usr/local/lib/python3.7/dist-packages (from gensim) (1.15.0)\n",
            "Looking in indexes: https://pypi.org/simple, https://us-python.pkg.dev/colab-wheels/public/simple/\n",
            "Requirement already satisfied: nltk in /usr/local/lib/python3.7/dist-packages (3.7)\n",
            "Requirement already satisfied: joblib in /usr/local/lib/python3.7/dist-packages (from nltk) (1.2.0)\n",
            "Requirement already satisfied: tqdm in /usr/local/lib/python3.7/dist-packages (from nltk) (4.64.1)\n",
            "Requirement already satisfied: click in /usr/local/lib/python3.7/dist-packages (from nltk) (7.1.2)\n",
            "Requirement already satisfied: regex>=2021.8.3 in /usr/local/lib/python3.7/dist-packages (from nltk) (2022.6.2)\n"
          ]
        }
      ]
    },
    {
      "cell_type": "code",
      "source": [
        "import nltk\n",
        "nltk.download(\"stopwords\")\n",
        "nltk.download('punkt')\n",
        "nltk.download('averaged_perceptron_tagger')\n",
        "from nltk.corpus import stopwords\n",
        "from nltk.tokenize import word_tokenize"
      ],
      "metadata": {
        "id": "ygukzhmdd2aq",
        "colab": {
          "base_uri": "https://localhost:8080/"
        },
        "outputId": "efdf8f40-1b24-4c40-87d1-0f16f205aad3"
      },
      "execution_count": 95,
      "outputs": [
        {
          "output_type": "stream",
          "name": "stderr",
          "text": [
            "[nltk_data] Downloading package stopwords to /root/nltk_data...\n",
            "[nltk_data]   Package stopwords is already up-to-date!\n",
            "[nltk_data] Downloading package punkt to /root/nltk_data...\n",
            "[nltk_data]   Package punkt is already up-to-date!\n",
            "[nltk_data] Downloading package averaged_perceptron_tagger to\n",
            "[nltk_data]     /root/nltk_data...\n",
            "[nltk_data]   Package averaged_perceptron_tagger is already up-to-\n",
            "[nltk_data]       date!\n"
          ]
        }
      ]
    },
    {
      "cell_type": "code",
      "source": [
        "import gensim\n",
        "from gensim.test.utils import common_texts\n",
        "from gensim.corpora.dictionary import Dictionary\n",
        "from gensim.models import LdaSeqModel, LdaModel"
      ],
      "metadata": {
        "id": "W0KmPIned8AG"
      },
      "execution_count": 96,
      "outputs": []
    },
    {
      "cell_type": "code",
      "source": [
        "cleaned_tweets_all = []\n",
        "\n",
        "for tweet in df.content:\n",
        "  cleaned_tweet = []\n",
        "  cleaned_tweet_string = CleanText(tweet, Num=True, Eng=False)\n",
        "  tweet_tokens = word_tokenize(cleaned_tweet_string)\n",
        "  for token in tweet_tokens:\n",
        "    if token.lower() not in stop_words:\n",
        "      cleaned_tweet.append(token)\n",
        "\n",
        "  # print(\"---------------------\")\n",
        "  # print(\"전처리 전:\", word_tokenize(tweet))\n",
        "  # print(\"전처리 후:\", cleaned_tweet)\n",
        "  # print(\"---------------------\")\n",
        "  cleaned_tweets_all.append(cleaned_tweet)"
      ],
      "metadata": {
        "id": "9VRb1FEleJkE"
      },
      "execution_count": 97,
      "outputs": []
    },
    {
      "cell_type": "code",
      "source": [
        "id2word = Dictionary(cleaned_tweets_all)\n",
        "corpus = [id2word.doc2bow(text) for text in cleaned_tweets_all]"
      ],
      "metadata": {
        "id": "886zLdY3eDBC"
      },
      "execution_count": 98,
      "outputs": []
    },
    {
      "cell_type": "code",
      "source": [
        "topic_number = 10 #10개의 topic group로 나눔\n",
        "\n",
        "lda_model = gensim.models.ldamodel.LdaModel(corpus=corpus,\n",
        "                                                id2word=id2word,\n",
        "                                                num_topics=topic_number,\n",
        "                                                random_state=100,\n",
        "                                                update_every=1,\n",
        "                                                chunksize=100,\n",
        "                                                passes=10,\n",
        "                                                alpha='auto',\n",
        "                                                per_word_topics=True)"
      ],
      "metadata": {
        "id": "wz3sQKSXeu5V"
      },
      "execution_count": 99,
      "outputs": []
    },
    {
      "cell_type": "code",
      "source": [
        "for topic_topwords in lda_model.print_topics():\n",
        "  print(topic_topwords)"
      ],
      "metadata": {
        "colab": {
          "base_uri": "https://localhost:8080/"
        },
        "id": "BLFBwaB1ey5v",
        "outputId": "9e8b6fb6-b5e7-408a-cbd4-2f9e09c35c56"
      },
      "execution_count": 100,
      "outputs": [
        {
          "output_type": "stream",
          "name": "stdout",
          "text": [
            "(0, '0.032*\"bts\" + 0.021*\"los\" + 0.021*\"el\" + 0.021*\"de\" + 0.011*\"morning\" + 0.011*\"good\" + 0.011*\"busan\" + 0.011*\"todos\" + 0.011*\"Las\" + 0.011*\"ES\"')\n",
            "(1, '0.043*\"busan\" + 0.022*\"de\" + 0.022*\"el\" + 0.012*\"en\" + 0.011*\"los\" + 0.011*\"n\" + 0.011*\"concierto\" + 0.011*\"called\" + 0.011*\"nueva\" + 0.011*\"deseos\"')\n",
            "(2, '0.026*\"BTS\" + 0.026*\"Busan\" + 0.026*\"en\" + 0.016*\"para\" + 0.016*\"de\" + 0.016*\"din\" + 0.011*\"na\" + 0.011*\"al\" + 0.011*\"la\" + 0.011*\"BUSAN\"')\n",
            "(3, '0.079*\"busan\" + 0.027*\"concert\" + 0.014*\"right\" + 0.014*\"en\" + 0.014*\"god\" + 0.007*\"BUSAN\" + 0.007*\"going\" + 0.007*\"wait\" + 0.007*\"estar\" + 0.007*\"rn\"')\n",
            "(4, '0.031*\"busan\" + 0.026*\"de\" + 0.023*\"concert\" + 0.023*\"Busan\" + 0.023*\"BTS\" + 0.020*\"en\" + 0.017*\"Duo\" + 0.017*\"Pop\" + 0.017*\"Favorite\" + 0.017*\"Group\"')\n",
            "(5, '0.027*\"de\" + 0.022*\"Busan\" + 0.022*\"Jimin\" + 0.017*\"jealous\" + 0.017*\"Seeing\" + 0.017*\"busan\" + 0.017*\"bora\" + 0.011*\"BUSAN\" + 0.011*\"uarmyhope\" + 0.011*\"na\"')\n",
            "(6, '0.030*\"Busan\" + 0.016*\"kerja\" + 0.016*\"nya\" + 0.016*\"aku\" + 0.016*\"bukan\" + 0.016*\"disana\" + 0.016*\"jalan\" + 0.016*\"JD\" + 0.016*\"udh\" + 0.016*\"Kalo\"')\n",
            "(7, '0.030*\"busan\" + 0.021*\"gue\" + 0.021*\"di\" + 0.021*\"BUSAN\" + 0.021*\"EN\" + 0.011*\"bts\" + 0.011*\"hermoso\" + 0.011*\"Dios\" + 0.011*\"BORACITY\" + 0.011*\"setlist\"')\n",
            "(8, '0.035*\"busan\" + 0.025*\"Busan\" + 0.016*\"en\" + 0.015*\"de\" + 0.013*\"el\" + 0.013*\"konser\" + 0.013*\"jealous\" + 0.013*\"everyone\" + 0.013*\"se\" + 0.013*\"pra\"')\n",
            "(9, '0.019*\"Sieon\" + 0.019*\"see\" + 0.019*\"Jungkook\" + 0.019*\"busan\" + 0.010*\"BUSAN\" + 0.010*\"Busan\" + 0.010*\"channel\" + 0.010*\"Yongsan\" + 0.010*\"YT\" + 0.010*\"actor\"')\n"
          ]
        }
      ]
    },
    {
      "cell_type": "markdown",
      "source": [
        "# 향후 방향\n",
        "\n",
        "\n",
        "*   본인이 조사 하고 싶은 key word를 정해서 분석\n",
        "*   년도별, 월별의 변화를 관찰\n",
        "\n",
        "*   토픽별 감성 비교\n",
        "*   여러개의 key word를 사용해서 결과 비교 (Ex, galaxy vs iphone) \n",
        "\n",
        "\n",
        "\n"
      ],
      "metadata": {
        "id": "mvAOdh4khMzY"
      }
    },
    {
      "cell_type": "markdown",
      "source": [
        "# 참고자료\n",
        "\n",
        "\n",
        "*   https://www.nltk.org/\n",
        "*   https://radimrehurek.com/gensim/\n",
        "\n",
        "*   https://huggingface.co/ (for Deep Learning Models in NLP)\n",
        "*   https://en.wikipedia.org/wiki/Word_embedding (Word Embedding 는 현재 NLP에서의 핵심 기술)\n",
        "\n",
        "*  reference Dr.야마다님\n",
        "\n",
        "\n",
        "\n"
      ],
      "metadata": {
        "id": "JeF-tViWh_7_"
      }
    }
  ]
}